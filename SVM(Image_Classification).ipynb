{
  "cells": [
    {
      "cell_type": "markdown",
      "metadata": {
        "id": "view-in-github",
        "colab_type": "text"
      },
      "source": [
        "<a href=\"https://colab.research.google.com/github/Shilajit-CR7/ML-Works/blob/main/SVM(Image_Classification).ipynb\" target=\"_parent\"><img src=\"https://colab.research.google.com/assets/colab-badge.svg\" alt=\"Open In Colab\"/></a>"
      ]
    },
    {
      "cell_type": "code",
      "execution_count": null,
      "id": "aa5a325d",
      "metadata": {
        "id": "aa5a325d"
      },
      "outputs": [],
      "source": [
        "import numpy as np\n",
        "import pandas as pd\n",
        "import matplotlib.pyplot as plt\n",
        "import seaborn as sns\n",
        "from keras_preprocessing import image"
      ]
    },
    {
      "cell_type": "markdown",
      "id": "f01bdb81",
      "metadata": {
        "id": "f01bdb81"
      },
      "source": [
        "# DataSet Preparation"
      ]
    },
    {
      "cell_type": "code",
      "execution_count": null,
      "id": "eaf8fa59",
      "metadata": {
        "id": "eaf8fa59"
      },
      "outputs": [],
      "source": [
        "import os\n",
        "from pathlib import Path"
      ]
    },
    {
      "cell_type": "code",
      "execution_count": null,
      "id": "fb94657d",
      "metadata": {
        "id": "fb94657d"
      },
      "outputs": [],
      "source": [
        "p = Path('../../Documents/DAtaset/Images/')"
      ]
    },
    {
      "cell_type": "code",
      "execution_count": 1,
      "id": "29b0c8c6",
      "metadata": {
        "colab": {
          "base_uri": "https://localhost:8080/",
          "height": 130
        },
        "id": "29b0c8c6",
        "outputId": "c5561c46-3dbf-4c00-d628-b60ad2457257"
      },
      "outputs": [
        {
          "output_type": "error",
          "ename": "SyntaxError",
          "evalue": "ignored",
          "traceback": [
            "\u001b[0;36m  File \u001b[0;32m\"<ipython-input-1-50eab17fe166>\"\u001b[0;36m, line \u001b[0;32m9\u001b[0m\n\u001b[0;31m    \u001b[0m\n\u001b[0m    ^\u001b[0m\n\u001b[0;31mSyntaxError\u001b[0m\u001b[0;31m:\u001b[0m unexpected EOF while parsing\n"
          ]
        }
      ],
      "source": [
        "# Taking the path of every images inside different folders\n",
        "dirs = p.glob(\"*\")\n",
        "for folders in dirs:\n",
        "    #print(folders)\n",
        "    label = str(folders).split(\"\\\\\")[-1]\n",
        "    #print(label)\n",
        "    for img_path in folders.glob('*.jpg'):\n",
        "       # print(img_path)\n",
        "        ## Error because big o/p so ran it in colab so error came of the path"
      ]
    },
    {
      "cell_type": "code",
      "execution_count": null,
      "id": "5ac582c0",
      "metadata": {
        "id": "5ac582c0"
      },
      "outputs": [],
      "source": [
        "#Every image is loaded and made that to an array\n",
        "dirs = p.glob(\"*\")\n",
        "\n",
        "label_dic = {'cats':0,'dogs':1,'horses':2,'humans':3}\n",
        "image_data = []\n",
        "labels = []\n",
        "\n",
        "for folders in dirs:\n",
        "    #print(folders)\n",
        "    label = str(folders).split(\"\\\\\")[-1]\n",
        "    #print(label)\n",
        "    \n",
        "   \n",
        "    \n",
        "    \n",
        "    for img_path in folders.glob('*.jpg'):\n",
        "        #print(img_path)\n",
        "        img = image.load_img(img_path,target_size=(50,50))\n",
        "        img_array = image.img_to_array(img)\n",
        "        image_data.append(img_array)\n",
        "        labels.append(label_dic[label])\n",
        "        "
      ]
    },
    {
      "cell_type": "code",
      "execution_count": null,
      "id": "bda11f60",
      "metadata": {
        "id": "bda11f60",
        "outputId": "ad4858d1-ba6b-4589-e298-794acfb69ebc"
      },
      "outputs": [
        {
          "data": {
            "text/plain": [
              "array([[[ 40.,  44.,  43.],\n",
              "        [ 55.,  58.,  63.],\n",
              "        [ 29.,  35.,  31.],\n",
              "        ...,\n",
              "        [ 86.,  93., 119.],\n",
              "        [ 92.,  96., 107.],\n",
              "        [199., 195., 166.]],\n",
              "\n",
              "       [[ 41.,  45.,  44.],\n",
              "        [ 49.,  52.,  57.],\n",
              "        [ 45.,  51.,  47.],\n",
              "        ...,\n",
              "        [ 76.,  84., 105.],\n",
              "        [ 71.,  77.,  89.],\n",
              "        [216., 206., 181.]],\n",
              "\n",
              "       [[ 41.,  45.,  44.],\n",
              "        [ 37.,  40.,  45.],\n",
              "        [ 41.,  47.,  43.],\n",
              "        ...,\n",
              "        [ 78.,  86., 105.],\n",
              "        [ 78.,  88.,  89.],\n",
              "        [206., 193., 159.]],\n",
              "\n",
              "       ...,\n",
              "\n",
              "       [[ 23.,  23.,  23.],\n",
              "        [ 22.,  22.,  22.],\n",
              "        [ 25.,  25.,  25.],\n",
              "        ...,\n",
              "        [ 47.,  36.,  32.],\n",
              "        [ 71.,  56.,  49.],\n",
              "        [ 87.,  72.,  67.]],\n",
              "\n",
              "       [[ 20.,  20.,  20.],\n",
              "        [ 22.,  22.,  22.],\n",
              "        [ 21.,  21.,  21.],\n",
              "        ...,\n",
              "        [ 76.,  68.,  55.],\n",
              "        [ 58.,  42.,  45.],\n",
              "        [103.,  88.,  81.]],\n",
              "\n",
              "       [[ 23.,  21.,  22.],\n",
              "        [ 24.,  22.,  23.],\n",
              "        [ 21.,  19.,  20.],\n",
              "        ...,\n",
              "        [ 77.,  59.,  55.],\n",
              "        [ 68.,  50.,  46.],\n",
              "        [ 36.,  23.,  17.]]], dtype=float32)"
            ]
          },
          "execution_count": 132,
          "metadata": {},
          "output_type": "execute_result"
        }
      ],
      "source": [
        "image_data[0] # All the images as matrix "
      ]
    },
    {
      "cell_type": "code",
      "execution_count": null,
      "id": "bb8fa5e3",
      "metadata": {
        "id": "bb8fa5e3",
        "outputId": "833857b3-dd25-4725-ee83-7735109f0d89"
      },
      "outputs": [
        {
          "data": {
            "text/plain": [
              "[0, 0, 0, 0, 0, 0, 0, 0, 0, 0]"
            ]
          },
          "execution_count": 133,
          "metadata": {},
          "output_type": "execute_result"
        }
      ],
      "source": [
        "labels[0:10]"
      ]
    },
    {
      "cell_type": "code",
      "execution_count": null,
      "id": "ffc0d085",
      "metadata": {
        "id": "ffc0d085"
      },
      "outputs": [],
      "source": [
        "image_data = np.array(image_data,dtype='float32')/255.0\n",
        "labels = np.array(labels)"
      ]
    },
    {
      "cell_type": "code",
      "execution_count": null,
      "id": "3a070fb7",
      "metadata": {
        "id": "3a070fb7"
      },
      "outputs": [],
      "source": [
        "def draw(img):\n",
        "    plt.imshow(img)\n",
        "    return"
      ]
    },
    {
      "cell_type": "code",
      "execution_count": null,
      "id": "cb0a932f",
      "metadata": {
        "id": "cb0a932f",
        "outputId": "b355e2d1-78cf-4f08-f8cb-87703fe893f5"
      },
      "outputs": [
        {
          "data": {
            "image/png": "[encoded data removed]",
            "text/plain": [
              "<Figure size 432x288 with 1 Axes>"
            ]
          },
          "metadata": {
            "needs_background": "light"
          },
          "output_type": "display_data"
        }
      ],
      "source": [
        "draw(image_data[5])"
      ]
    },
    {
      "cell_type": "markdown",
      "id": "622191e5",
      "metadata": {
        "id": "622191e5"
      },
      "source": [
        "# Randomly Shuffle the data"
      ]
    },
    {
      "cell_type": "code",
      "execution_count": null,
      "id": "fb0bb3a5",
      "metadata": {
        "id": "fb0bb3a5"
      },
      "outputs": [],
      "source": [
        "import random"
      ]
    },
    {
      "cell_type": "code",
      "execution_count": null,
      "id": "a2802892",
      "metadata": {
        "id": "a2802892"
      },
      "outputs": [],
      "source": [
        "combined = list(zip(image_data,labels)) ## Zipped\n",
        "random.shuffle(combined) ## Shuffled \n",
        "image_data[:],labels[:] = zip(*combined)  ## Unzipped "
      ]
    },
    {
      "cell_type": "code",
      "execution_count": null,
      "id": "39a57ca3",
      "metadata": {
        "id": "39a57ca3",
        "outputId": "800d4ad0-b883-49f9-97b5-365e57029820"
      },
      "outputs": [
        {
          "data": {
            "image/png": "[encoded data removed]",
            "text/plain": [
              "<Figure size 432x288 with 1 Axes>"
            ]
          },
          "metadata": {
            "needs_background": "light"
          },
          "output_type": "display_data"
        }
      ],
      "source": [
        "draw(image_data[0])"
      ]
    },
    {
      "cell_type": "code",
      "execution_count": null,
      "id": "97324e60",
      "metadata": {
        "id": "97324e60"
      },
      "outputs": [],
      "source": [
        "from sklearn import svm"
      ]
    },
    {
      "cell_type": "code",
      "execution_count": null,
      "id": "81b0f1b2",
      "metadata": {
        "id": "81b0f1b2"
      },
      "outputs": [],
      "source": [
        "df = image_data.reshape(image_data.shape[0],-1)"
      ]
    },
    {
      "cell_type": "code",
      "execution_count": null,
      "id": "da25d57c",
      "metadata": {
        "id": "da25d57c",
        "outputId": "7222b771-2434-4162-fcfc-c2b448772847"
      },
      "outputs": [
        {
          "data": {
            "text/plain": [
              "(808, 7500)"
            ]
          },
          "execution_count": 142,
          "metadata": {},
          "output_type": "execute_result"
        }
      ],
      "source": [
        "df.shape"
      ]
    },
    {
      "cell_type": "code",
      "execution_count": null,
      "id": "414c48b0",
      "metadata": {
        "id": "414c48b0",
        "outputId": "fc965e6f-7eaa-45bc-f204-6d934e4063cc"
      },
      "outputs": [
        {
          "data": {
            "text/plain": [
              "0.6472772277227723"
            ]
          },
          "execution_count": 144,
          "metadata": {},
          "output_type": "execute_result"
        }
      ],
      "source": [
        "model = svm.SVC(kernel='poly',C=1)\n",
        "model = model.fit(df,labels)\n",
        "model.score(df,labels)"
      ]
    },
    {
      "cell_type": "code",
      "execution_count": null,
      "id": "f9500f7c",
      "metadata": {
        "id": "f9500f7c",
        "outputId": "99de959d-63e3-48e7-e793-df47b099c94b"
      },
      "outputs": [
        {
          "data": {
            "text/plain": [
              "0.6658415841584159"
            ]
          },
          "execution_count": 116,
          "metadata": {},
          "output_type": "execute_result"
        }
      ],
      "source": [
        "model.score(df,labels)"
      ]
    },
    {
      "cell_type": "code",
      "execution_count": null,
      "id": "2a391b3f",
      "metadata": {
        "id": "2a391b3f"
      },
      "outputs": [],
      "source": [
        "y_pred = model.predict(df)"
      ]
    },
    {
      "cell_type": "code",
      "execution_count": null,
      "id": "79837258",
      "metadata": {
        "id": "79837258",
        "outputId": "8d48f4a8-980f-44f1-e825-0a51d3c62695"
      },
      "outputs": [
        {
          "data": {
            "text/plain": [
              "array([0, 0, 2, 2, 3, 3, 0, 0, 1, 3, 0, 0, 3, 0, 0, 0, 2, 0, 3, 0, 3, 0,\n",
              "       0, 0, 1, 0, 0, 2, 2, 2, 2, 0, 0, 2, 2, 0, 0, 2, 0, 2, 0, 2, 0, 0,\n",
              "       0, 2, 2, 0, 2, 0, 1, 3, 3, 1, 2, 0, 3, 0, 0, 0, 0, 0, 2, 0, 1, 1,\n",
              "       1, 2, 1, 0, 0, 0, 0, 2, 0, 2, 2, 0, 0, 0, 0, 0, 2, 3, 0, 0, 3, 0,\n",
              "       2, 0, 2, 2, 3, 3, 0, 3, 0, 0, 3, 0, 0, 3, 0, 3, 1, 0, 0, 0, 1, 3,\n",
              "       1, 3, 1, 0, 0, 2, 2, 3, 0, 3, 0, 0, 1, 3, 0, 1, 2, 2, 2, 0, 0, 1,\n",
              "       1, 0, 3, 0, 0, 3, 3, 0, 2, 0, 3, 0, 2, 3, 0, 1, 3, 2, 3, 2, 3, 0,\n",
              "       0, 1, 0, 0, 0, 3, 2, 0, 1, 0, 0, 1, 3, 1, 0, 3, 0, 3, 1, 0, 2, 0,\n",
              "       0, 2, 3, 3, 3, 1, 2, 2, 0, 2, 2, 3, 1, 0, 3, 1, 0, 1, 2, 1, 3, 2,\n",
              "       1, 0, 0, 1, 1, 2, 1, 1, 1, 1, 2, 1, 1, 1, 1, 3, 1, 3, 1, 3, 3, 1,\n",
              "       1, 0, 1, 1, 1, 0, 2, 0, 3, 1, 1, 1, 1, 3, 1, 1, 1, 1, 2, 2, 2, 3,\n",
              "       1, 2, 1, 2, 1, 2, 1, 1, 2, 1, 1, 2, 1, 3, 2, 1, 1, 2, 0, 2, 2, 0,\n",
              "       2, 3, 2, 1, 1, 3, 2, 0, 2, 1, 1, 3, 2, 1, 1, 2, 1, 1, 3, 2, 0, 1,\n",
              "       1, 1, 1, 2, 3, 1, 1, 3, 3, 0, 3, 3, 2, 1, 2, 2, 2, 3, 2, 2, 2, 2,\n",
              "       2, 3, 1, 1, 1, 1, 3, 1, 1, 3, 0, 1, 1, 1, 3, 1, 1, 1, 1, 2, 2, 2,\n",
              "       3, 1, 2, 2, 1, 0, 3, 2, 1, 1, 2, 0, 3, 1, 3, 2, 2, 2, 2, 0, 2, 3,\n",
              "       3, 2, 1, 3, 2, 3, 2, 2, 2, 2, 2, 2, 3, 1, 0, 1, 2, 2, 2, 3, 2, 1,\n",
              "       3, 2, 0, 1, 2, 1, 1, 3, 1, 0, 3, 2, 1, 3, 0, 1, 3, 3, 2, 1, 3, 2,\n",
              "       3, 2, 1, 2, 2, 2, 0, 3, 1, 1, 2, 2, 2, 3, 2, 1, 3, 2, 1, 3, 3, 3,\n",
              "       3, 3, 2, 0, 2, 2, 3, 3, 0, 2, 3, 3, 3, 3, 3, 3, 2, 3, 2, 0, 2, 1,\n",
              "       3, 1, 3, 1, 2, 1, 1, 0, 1, 3, 0, 3, 2, 3, 3, 3, 3, 3, 2, 3, 2, 2,\n",
              "       2, 2, 1, 3, 0, 3, 3, 2, 2, 3, 2, 3, 3, 2, 3, 2, 2, 3, 0, 3, 3, 2,\n",
              "       2, 2, 3, 1, 2, 1, 3, 3, 3, 3, 2, 3, 3, 2, 2, 3, 0, 2, 0, 2, 3, 3,\n",
              "       0, 2, 3, 2, 2, 2, 2, 2, 3, 3, 2, 0, 2, 1, 3, 0, 2, 0, 3, 3, 3, 2,\n",
              "       2, 1, 2, 3, 2, 1, 0, 1, 3, 3, 3, 2, 3, 1, 3, 0, 0, 1, 1, 0, 3, 3,\n",
              "       3, 1, 1, 3, 3, 2, 2, 3, 2, 0, 3, 2, 3, 1, 3, 2, 1, 3, 1, 0, 3, 3,\n",
              "       2, 1, 3, 1, 3, 3, 3, 0, 2, 1, 3, 2, 3, 2, 3, 2, 0, 3, 1, 2, 0, 2,\n",
              "       1, 2, 0, 3, 2, 3, 3, 1, 3, 3, 3, 3, 0, 0, 0, 3, 3, 1, 2, 1, 1, 3,\n",
              "       2, 2, 2, 3, 3, 3, 3, 0, 0, 3, 0, 3, 2, 1, 3, 3, 2, 0, 2, 3, 2, 3,\n",
              "       3, 3, 3, 1, 3, 2, 2, 0, 0, 0, 3, 2, 2, 0, 0, 3, 2, 3, 3, 0, 3, 3,\n",
              "       3, 1, 3, 1, 3, 2, 0, 0, 2, 1, 3, 0, 3, 3, 2, 2, 3, 0, 1, 2, 2, 3,\n",
              "       0, 3, 3, 3, 1, 3, 1, 2, 2, 0, 3, 2, 1, 0, 2, 3, 0, 2, 0, 1, 3, 1,\n",
              "       3, 1, 1, 0, 3, 3, 1, 0, 0, 3, 0, 3, 1, 1, 3, 2, 2, 1, 2, 1, 3, 3,\n",
              "       2, 2, 3, 3, 1, 3, 1, 1, 1, 2, 3, 2, 3, 3, 2, 2, 3, 2, 3, 3, 2, 2,\n",
              "       2, 3, 1, 3, 0, 2, 3, 0, 2, 3, 2, 0, 2, 2, 1, 1, 2, 3, 0, 0, 3, 2,\n",
              "       2, 0, 2, 2, 2, 0, 3, 3, 3, 0, 1, 1, 0, 3, 3, 3, 3, 0, 3, 1, 1, 2,\n",
              "       3, 3, 0, 1, 0, 2, 2, 3, 0, 1, 3, 0, 3, 2, 1, 1])"
            ]
          },
          "execution_count": 154,
          "metadata": {},
          "output_type": "execute_result"
        }
      ],
      "source": [
        "y_pred"
      ]
    },
    {
      "cell_type": "code",
      "execution_count": null,
      "id": "ce6c7052",
      "metadata": {
        "id": "ce6c7052",
        "outputId": "810ee1c1-4439-4846-e566-b9d524dbbf29"
      },
      "outputs": [
        {
          "data": {
            "text/plain": [
              "numpy.ndarray"
            ]
          },
          "execution_count": 155,
          "metadata": {},
          "output_type": "execute_result"
        }
      ],
      "source": [
        "type(df)"
      ]
    },
    {
      "cell_type": "code",
      "execution_count": null,
      "id": "3b46f14f",
      "metadata": {
        "id": "3b46f14f"
      },
      "outputs": [],
      "source": [
        ""
      ]
    },
    {
      "cell_type": "code",
      "execution_count": null,
      "id": "0a27a026",
      "metadata": {
        "id": "0a27a026"
      },
      "outputs": [],
      "source": [
        ""
      ]
    },
    {
      "cell_type": "code",
      "execution_count": null,
      "id": "a5e29fed",
      "metadata": {
        "id": "a5e29fed"
      },
      "outputs": [],
      "source": [
        ""
      ]
    },
    {
      "cell_type": "code",
      "execution_count": null,
      "id": "bd76fb3c",
      "metadata": {
        "id": "bd76fb3c"
      },
      "outputs": [],
      "source": [
        ""
      ]
    },
    {
      "cell_type": "code",
      "execution_count": null,
      "id": "064cb849",
      "metadata": {
        "id": "064cb849"
      },
      "outputs": [],
      "source": [
        ""
      ]
    },
    {
      "cell_type": "code",
      "execution_count": null,
      "id": "6a3939b4",
      "metadata": {
        "id": "6a3939b4"
      },
      "outputs": [],
      "source": [
        ""
      ]
    },
    {
      "cell_type": "code",
      "execution_count": null,
      "id": "e847cb01",
      "metadata": {
        "id": "e847cb01"
      },
      "outputs": [],
      "source": [
        ""
      ]
    },
    {
      "cell_type": "code",
      "execution_count": null,
      "id": "64c21b0a",
      "metadata": {
        "id": "64c21b0a"
      },
      "outputs": [],
      "source": [
        ""
      ]
    },
    {
      "cell_type": "code",
      "execution_count": null,
      "id": "ecb20cf0",
      "metadata": {
        "id": "ecb20cf0"
      },
      "outputs": [],
      "source": [
        ""
      ]
    },
    {
      "cell_type": "code",
      "execution_count": null,
      "id": "8b5f5f7b",
      "metadata": {
        "id": "8b5f5f7b"
      },
      "outputs": [],
      "source": [
        ""
      ]
    },
    {
      "cell_type": "code",
      "execution_count": null,
      "id": "04233cf4",
      "metadata": {
        "id": "04233cf4"
      },
      "outputs": [],
      "source": [
        ""
      ]
    },
    {
      "cell_type": "code",
      "execution_count": null,
      "id": "36cd86e5",
      "metadata": {
        "id": "36cd86e5"
      },
      "outputs": [],
      "source": [
        ""
      ]
    },
    {
      "cell_type": "code",
      "execution_count": null,
      "id": "958422f8",
      "metadata": {
        "id": "958422f8"
      },
      "outputs": [],
      "source": [
        ""
      ]
    },
    {
      "cell_type": "code",
      "execution_count": null,
      "id": "1738ed3e",
      "metadata": {
        "id": "1738ed3e"
      },
      "outputs": [],
      "source": [
        ""
      ]
    },
    {
      "cell_type": "code",
      "execution_count": null,
      "id": "4c8e3780",
      "metadata": {
        "id": "4c8e3780"
      },
      "outputs": [],
      "source": [
        ""
      ]
    },
    {
      "cell_type": "code",
      "execution_count": null,
      "id": "5bd992e2",
      "metadata": {
        "id": "5bd992e2"
      },
      "outputs": [],
      "source": [
        ""
      ]
    },
    {
      "cell_type": "code",
      "execution_count": null,
      "id": "12a2dd1f",
      "metadata": {
        "id": "12a2dd1f"
      },
      "outputs": [],
      "source": [
        ""
      ]
    },
    {
      "cell_type": "code",
      "execution_count": null,
      "id": "ce452b0d",
      "metadata": {
        "id": "ce452b0d"
      },
      "outputs": [],
      "source": [
        ""
      ]
    }
  ],
  "metadata": {
    "kernelspec": {
      "display_name": "Python 3 (ipykernel)",
      "language": "python",
      "name": "python3"
    },
    "language_info": {
      "codemirror_mode": {
        "name": "ipython",
        "version": 3
      },
      "file_extension": ".py",
      "mimetype": "text/x-python",
      "name": "python",
      "nbconvert_exporter": "python",
      "pygments_lexer": "ipython3",
      "version": "3.9.10"
    },
    "colab": {
      "name": "SVM(Image Classification).ipynb",
      "provenance": [],
      "include_colab_link": true
    }
  },
  "nbformat": 4,
  "nbformat_minor": 5
}