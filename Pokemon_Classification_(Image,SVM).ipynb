{
  "cells": [
    {
      "cell_type": "markdown",
      "metadata": {
        "id": "view-in-github",
        "colab_type": "text"
      },
      "source": [
        "<a href=\"https://colab.research.google.com/github/Shilajit-CR7/ML-Works/blob/main/Pokemon_Classification_(Image%2CSVM).ipynb\" target=\"_parent\"><img src=\"https://colab.research.google.com/assets/colab-badge.svg\" alt=\"Open In Colab\"/></a>"
      ]
    },
    {
      "cell_type": "code",
      "execution_count": null,
      "id": "a8bdc91c",
      "metadata": {
        "id": "a8bdc91c"
      },
      "outputs": [],
      "source": [
        "import numpy as np\n",
        "import pandas as pd\n",
        "import matplotlib.pyplot as plt\n",
        "import seaborn as sns\n",
        "from keras_preprocessing import image"
      ]
    },
    {
      "cell_type": "code",
      "execution_count": null,
      "id": "e9fecd70",
      "metadata": {
        "id": "e9fecd70"
      },
      "outputs": [],
      "source": [
        "import os\n",
        "from pathlib import Path"
      ]
    },
    {
      "cell_type": "code",
      "execution_count": null,
      "id": "2b84e2a0",
      "metadata": {
        "id": "2b84e2a0"
      },
      "outputs": [],
      "source": [
        "p = Path('../../Documents/DAtaset/test/')"
      ]
    },
    {
      "cell_type": "code",
      "execution_count": null,
      "id": "b770c1ca",
      "metadata": {
        "id": "b770c1ca",
        "outputId": "89f4a1b3-dd89-401f-d090-c21914d2eb92"
      },
      "outputs": [
        {
          "name": "stderr",
          "output_type": "stream",
          "text": [
            "C:\\Users\\Shilajit-CR7\\AppData\\Local\\Programs\\Python\\Python39\\lib\\site-packages\\PIL\\Image.py:992: UserWarning: Palette images with Transparency expressed in bytes should be converted to RGBA images\n",
            "  warnings.warn(\n"
          ]
        }
      ],
      "source": [
        "dirs = p.glob(\"*\")\n",
        "image_data = []\n",
        "for folders in dirs:\n",
        "    #print(folders)\n",
        "    label = str(folders).split(\"\\\\\")[-1]\n",
        "    #print(label)\n",
        "    for img_path in folders.glob('*.jpg'):\n",
        "        #print(img_path)\n",
        "        img = image.load_img(img_path,target_size=(50,50))\n",
        "        img_array = image.img_to_array(img)\n",
        "        image_data.append(img_array)\n",
        "        "
      ]
    },
    {
      "cell_type": "code",
      "execution_count": null,
      "id": "aa855d55",
      "metadata": {
        "id": "aa855d55",
        "outputId": "3ce5b23f-7beb-4faf-d5c5-4afa5b57a11f"
      },
      "outputs": [
        {
          "data": {
            "text/plain": [
              "array([[[146., 191., 232.],\n",
              "        [146., 191., 232.],\n",
              "        [149., 192., 234.],\n",
              "        ...,\n",
              "        [151., 195., 232.],\n",
              "        [150., 194., 233.],\n",
              "        [148., 191., 233.]],\n",
              "\n",
              "       [[149., 192., 234.],\n",
              "        [149., 192., 234.],\n",
              "        [149., 193., 232.],\n",
              "        ...,\n",
              "        [155., 197., 235.],\n",
              "        [153., 197., 234.],\n",
              "        [150., 194., 233.]],\n",
              "\n",
              "       [[149., 193., 232.],\n",
              "        [150., 194., 233.],\n",
              "        [152., 196., 235.],\n",
              "        ...,\n",
              "        [157., 200., 235.],\n",
              "        [155., 197., 235.],\n",
              "        [151., 195., 232.]],\n",
              "\n",
              "       ...,\n",
              "\n",
              "       [[ 82., 140., 213.],\n",
              "        [ 79., 137., 210.],\n",
              "        [ 79., 137., 211.],\n",
              "        ...,\n",
              "        [ 74., 133., 209.],\n",
              "        [ 74., 133., 209.],\n",
              "        [ 74., 133., 209.]],\n",
              "\n",
              "       [[ 80., 140., 212.],\n",
              "        [ 80., 138., 212.],\n",
              "        [ 78., 136., 210.],\n",
              "        ...,\n",
              "        [ 75., 135., 208.],\n",
              "        [ 76., 136., 209.],\n",
              "        [ 75., 135., 208.]],\n",
              "\n",
              "       [[ 81., 141., 211.],\n",
              "        [ 79., 139., 211.],\n",
              "        [ 78., 138., 208.],\n",
              "        ...,\n",
              "        [ 79., 137., 211.],\n",
              "        [ 79., 137., 211.],\n",
              "        [ 79., 137., 211.]]], dtype=float32)"
            ]
          },
          "execution_count": 14,
          "metadata": {},
          "output_type": "execute_result"
        }
      ],
      "source": [
        "image_data[0]"
      ]
    },
    {
      "cell_type": "code",
      "execution_count": null,
      "id": "6cd2f07d",
      "metadata": {
        "id": "6cd2f07d"
      },
      "outputs": [],
      "source": [
        "labels = pd.read_csv('Train.csv')"
      ]
    },
    {
      "cell_type": "code",
      "execution_count": null,
      "id": "02aef744",
      "metadata": {
        "id": "02aef744"
      },
      "outputs": [],
      "source": [
        "labels = labels['NameOfPokemon']"
      ]
    },
    {
      "cell_type": "code",
      "execution_count": null,
      "id": "d16266e9",
      "metadata": {
        "id": "d16266e9",
        "outputId": "10237c0f-ca6a-4dfb-bdff-a795bdb125f4"
      },
      "outputs": [
        {
          "data": {
            "text/plain": [
              "0         Pikachu\n",
              "1         Pikachu\n",
              "2         Pikachu\n",
              "3         Pikachu\n",
              "4         Pikachu\n",
              "          ...    \n",
              "299    Charmander\n",
              "300    Charmander\n",
              "301    Charmander\n",
              "302    Charmander\n",
              "303    Charmander\n",
              "Name: NameOfPokemon, Length: 304, dtype: object"
            ]
          },
          "execution_count": 20,
          "metadata": {},
          "output_type": "execute_result"
        }
      ],
      "source": [
        "labels"
      ]
    },
    {
      "cell_type": "code",
      "execution_count": null,
      "id": "260a8c89",
      "metadata": {
        "id": "260a8c89"
      },
      "outputs": [],
      "source": [
        "from sklearn.preprocessing import LabelEncoder\n",
        "le = LabelEncoder()"
      ]
    },
    {
      "cell_type": "code",
      "execution_count": null,
      "id": "5d79de1b",
      "metadata": {
        "id": "5d79de1b"
      },
      "outputs": [],
      "source": [
        "labels = le.fit_transform(labels)"
      ]
    },
    {
      "cell_type": "code",
      "execution_count": null,
      "id": "13d56454",
      "metadata": {
        "id": "13d56454",
        "outputId": "b831934a-cb9f-4972-c8f8-9db608985ceb"
      },
      "outputs": [
        {
          "data": {
            "text/plain": [
              "array([2, 2, 2, 2, 2, 2, 2, 2, 2, 2, 2, 2, 2, 2, 2, 2, 2, 2, 2, 2, 2, 2,\n",
              "       2, 2, 2, 2, 2, 2, 2, 2, 2, 2, 2, 2, 2, 2, 2, 2, 2, 2, 2, 2, 2, 2,\n",
              "       2, 2, 2, 2, 2, 2, 2, 2, 2, 2, 2, 2, 2, 2, 2, 2, 2, 2, 2, 2, 2, 2,\n",
              "       2, 2, 2, 2, 2, 2, 2, 2, 2, 2, 2, 2, 2, 2, 2, 2, 2, 2, 2, 2, 2, 2,\n",
              "       2, 2, 2, 2, 2, 2, 2, 2, 2, 2, 2, 2, 2, 0, 0, 0, 0, 0, 0, 0, 0, 0,\n",
              "       0, 0, 0, 0, 0, 0, 0, 0, 0, 0, 0, 0, 0, 0, 0, 0, 0, 0, 0, 0, 0, 0,\n",
              "       0, 0, 0, 0, 0, 0, 0, 0, 0, 0, 0, 0, 0, 0, 0, 0, 0, 0, 0, 0, 0, 0,\n",
              "       0, 0, 0, 0, 0, 0, 0, 0, 0, 0, 0, 0, 0, 0, 0, 0, 0, 0, 0, 0, 0, 0,\n",
              "       0, 0, 0, 0, 0, 0, 0, 0, 0, 0, 0, 0, 0, 0, 0, 0, 0, 0, 0, 0, 0, 0,\n",
              "       0, 0, 0, 0, 1, 1, 1, 1, 1, 1, 1, 1, 1, 1, 1, 1, 1, 1, 1, 1, 1, 1,\n",
              "       1, 1, 1, 1, 1, 1, 1, 1, 1, 1, 1, 1, 1, 1, 1, 1, 1, 1, 1, 1, 1, 1,\n",
              "       1, 1, 1, 1, 1, 1, 1, 1, 1, 1, 1, 1, 1, 1, 1, 1, 1, 1, 1, 1, 1, 1,\n",
              "       1, 1, 1, 1, 1, 1, 1, 1, 1, 1, 1, 1, 1, 1, 1, 1, 1, 1, 1, 1, 1, 1,\n",
              "       1, 1, 1, 1, 1, 1, 1, 1, 1, 1, 1, 1, 1, 1, 1, 1, 1, 1])"
            ]
          },
          "execution_count": 25,
          "metadata": {},
          "output_type": "execute_result"
        }
      ],
      "source": [
        "labels"
      ]
    },
    {
      "cell_type": "code",
      "execution_count": null,
      "id": "d8a9553a",
      "metadata": {
        "id": "d8a9553a",
        "outputId": "58aeb9c4-21ca-4c27-b34b-5143f4520191"
      },
      "outputs": [
        {
          "data": {
            "text/plain": [
              "numpy.ndarray"
            ]
          },
          "execution_count": 34,
          "metadata": {},
          "output_type": "execute_result"
        }
      ],
      "source": [
        "df = np.array(image_data)\n",
        "type(df)"
      ]
    },
    {
      "cell_type": "code",
      "execution_count": null,
      "id": "d47f5475",
      "metadata": {
        "id": "d47f5475"
      },
      "outputs": [],
      "source": [
        "from sklearn import svm"
      ]
    },
    {
      "cell_type": "code",
      "execution_count": null,
      "id": "a4b245e0",
      "metadata": {
        "id": "a4b245e0"
      },
      "outputs": [],
      "source": [
        "df = df.reshape(df.shape[0],-1)"
      ]
    },
    {
      "cell_type": "code",
      "execution_count": null,
      "id": "e2bd7b8c",
      "metadata": {
        "id": "e2bd7b8c",
        "outputId": "ade67597-3e1d-43fe-aa37-dbcc6e550d8d"
      },
      "outputs": [
        {
          "data": {
            "text/plain": [
              "(304, 7500)"
            ]
          },
          "execution_count": 37,
          "metadata": {},
          "output_type": "execute_result"
        }
      ],
      "source": [
        "df.shape"
      ]
    },
    {
      "cell_type": "code",
      "execution_count": null,
      "id": "f62e0bf3",
      "metadata": {
        "id": "f62e0bf3",
        "outputId": "89f6b09e-c14a-466a-ef0d-b4df26a87a71"
      },
      "outputs": [
        {
          "data": {
            "text/plain": [
              "0.9802631578947368"
            ]
          },
          "execution_count": 40,
          "metadata": {},
          "output_type": "execute_result"
        }
      ],
      "source": [
        "model = svm.SVC(kernel='poly',C=1)\n",
        "model = model.fit(df,labels)\n",
        "model.score(df,labels)"
      ]
    },
    {
      "cell_type": "markdown",
      "id": "80af266a",
      "metadata": {
        "id": "80af266a"
      },
      "source": [
        "# Test Data"
      ]
    },
    {
      "cell_type": "code",
      "execution_count": null,
      "id": "bfb5443c",
      "metadata": {
        "id": "bfb5443c"
      },
      "outputs": [],
      "source": [
        "p = Path('../../Documents/DAtaset/Test (2)//')"
      ]
    },
    {
      "cell_type": "code",
      "execution_count": null,
      "id": "840a623d",
      "metadata": {
        "id": "840a623d"
      },
      "outputs": [],
      "source": [
        "dirs = p.glob(\"*\")\n",
        "image_data = []\n",
        "for folders in dirs:\n",
        "    #print(folders)\n",
        "    label = str(folders).split(\"\\\\\")[-1]\n",
        "    #print(label)\n",
        "    for img_path in folders.glob('*.jpg'):\n",
        "        #print(img_path)\n",
        "        img = image.load_img(img_path,target_size=(50,50))\n",
        "        img_array = image.img_to_array(img)\n",
        "        image_data.append(img_array)"
      ]
    },
    {
      "cell_type": "code",
      "execution_count": null,
      "id": "5b64e488",
      "metadata": {
        "id": "5b64e488"
      },
      "outputs": [],
      "source": [
        "df = np.array(image_data)"
      ]
    },
    {
      "cell_type": "code",
      "execution_count": null,
      "id": "21f94e6c",
      "metadata": {
        "id": "21f94e6c"
      },
      "outputs": [],
      "source": [
        "df = df.reshape(df.shape[0],-1)"
      ]
    },
    {
      "cell_type": "code",
      "execution_count": null,
      "id": "6a8bbba4",
      "metadata": {
        "id": "6a8bbba4"
      },
      "outputs": [],
      "source": [
        "ypred = model.predict(df)"
      ]
    },
    {
      "cell_type": "code",
      "execution_count": null,
      "id": "c288fcdd",
      "metadata": {
        "id": "c288fcdd"
      },
      "outputs": [],
      "source": [
        "ypred = le.inverse_transform(ypred)"
      ]
    },
    {
      "cell_type": "code",
      "execution_count": null,
      "id": "03849d79",
      "metadata": {
        "id": "03849d79"
      },
      "outputs": [],
      "source": [
        "ypred = pd.DataFrame(ypred)"
      ]
    },
    {
      "cell_type": "code",
      "execution_count": null,
      "id": "fc9fd584",
      "metadata": {
        "id": "fc9fd584",
        "outputId": "537fd268-689a-4e2b-a2fa-7fda3f5bac86"
      },
      "outputs": [
        {
          "data": {
            "text/html": [
              "<div>\n",
              "<style scoped>\n",
              "    .dataframe tbody tr th:only-of-type {\n",
              "        vertical-align: middle;\n",
              "    }\n",
              "\n",
              "    .dataframe tbody tr th {\n",
              "        vertical-align: top;\n",
              "    }\n",
              "\n",
              "    .dataframe thead th {\n",
              "        text-align: right;\n",
              "    }\n",
              "</style>\n",
              "<table border=\"1\" class=\"dataframe\">\n",
              "  <thead>\n",
              "    <tr style=\"text-align: right;\">\n",
              "      <th></th>\n",
              "      <th>0</th>\n",
              "    </tr>\n",
              "  </thead>\n",
              "  <tbody>\n",
              "    <tr>\n",
              "      <th>0</th>\n",
              "      <td>Bulbasaur</td>\n",
              "    </tr>\n",
              "    <tr>\n",
              "      <th>1</th>\n",
              "      <td>Bulbasaur</td>\n",
              "    </tr>\n",
              "    <tr>\n",
              "      <th>2</th>\n",
              "      <td>Bulbasaur</td>\n",
              "    </tr>\n",
              "    <tr>\n",
              "      <th>3</th>\n",
              "      <td>Bulbasaur</td>\n",
              "    </tr>\n",
              "    <tr>\n",
              "      <th>4</th>\n",
              "      <td>Bulbasaur</td>\n",
              "    </tr>\n",
              "    <tr>\n",
              "      <th>...</th>\n",
              "      <td>...</td>\n",
              "    </tr>\n",
              "    <tr>\n",
              "      <th>118</th>\n",
              "      <td>Charmander</td>\n",
              "    </tr>\n",
              "    <tr>\n",
              "      <th>119</th>\n",
              "      <td>Charmander</td>\n",
              "    </tr>\n",
              "    <tr>\n",
              "      <th>120</th>\n",
              "      <td>Charmander</td>\n",
              "    </tr>\n",
              "    <tr>\n",
              "      <th>121</th>\n",
              "      <td>Charmander</td>\n",
              "    </tr>\n",
              "    <tr>\n",
              "      <th>122</th>\n",
              "      <td>Charmander</td>\n",
              "    </tr>\n",
              "  </tbody>\n",
              "</table>\n",
              "<p>123 rows × 1 columns</p>\n",
              "</div>"
            ],
            "text/plain": [
              "              0\n",
              "0     Bulbasaur\n",
              "1     Bulbasaur\n",
              "2     Bulbasaur\n",
              "3     Bulbasaur\n",
              "4     Bulbasaur\n",
              "..          ...\n",
              "118  Charmander\n",
              "119  Charmander\n",
              "120  Charmander\n",
              "121  Charmander\n",
              "122  Charmander\n",
              "\n",
              "[123 rows x 1 columns]"
            ]
          },
          "execution_count": 51,
          "metadata": {},
          "output_type": "execute_result"
        }
      ],
      "source": [
        "ypred"
      ]
    },
    {
      "cell_type": "code",
      "execution_count": null,
      "id": "89ccd461",
      "metadata": {
        "id": "89ccd461",
        "outputId": "7e5b856a-ff4f-48be-cfc7-7b226aa07cef"
      },
      "outputs": [
        {
          "name": "stdout",
          "output_type": "stream",
          "text": [
            "1100.jpg\n",
            "1101.jpg\n",
            "1102.jpg\n",
            "1103.jpg\n",
            "1104.jpg\n",
            "1105.jpg\n",
            "1106.jpg\n",
            "1107.jpg\n",
            "1108.jpg\n",
            "1109.jpg\n",
            "1110.jpg\n",
            "1111.jpg\n",
            "1112.jpg\n",
            "1113.jpg\n",
            "1114.jpg\n",
            "1115.jpg\n",
            "1116.jpg\n",
            "1117.jpg\n",
            "1118.jpg\n",
            "1119.jpg\n",
            "1120.jpg\n",
            "1121.jpg\n",
            "1122.jpg\n",
            "1123.jpg\n",
            "1124.jpg\n",
            "1125.jpg\n",
            "1126.jpg\n",
            "1127.jpg\n",
            "1128.jpg\n",
            "1129.jpg\n",
            "1130.jpg\n",
            "1131.jpg\n",
            "1132.jpg\n",
            "1133.jpg\n",
            "1134.jpg\n",
            "1135.jpg\n",
            "1136.jpg\n",
            "1137.jpg\n",
            "1138.jpg\n",
            "1139.jpg\n",
            "1140.jpg\n",
            "2000.jpg\n",
            "2001.jpg\n",
            "2002.jpg\n",
            "2003.jpg\n",
            "2004.jpg\n",
            "2005.jpg\n",
            "2006.jpg\n",
            "2007.jpg\n",
            "2008.jpg\n",
            "2009.jpg\n",
            "2010.jpg\n",
            "2011.jpg\n",
            "2012.jpg\n",
            "2013.jpg\n",
            "2014.jpg\n",
            "2015.jpg\n",
            "2016.jpg\n",
            "2017.jpg\n",
            "2018.jpg\n",
            "2019.jpg\n",
            "2020.jpg\n",
            "2021.jpg\n",
            "2022.jpg\n",
            "2023.jpg\n",
            "2024.jpg\n",
            "2025.jpg\n",
            "2026.jpg\n",
            "2027.jpg\n",
            "2028.jpg\n",
            "2029.jpg\n",
            "2030.jpg\n",
            "2031.jpg\n",
            "2032.jpg\n",
            "2033.jpg\n",
            "2034.jpg\n",
            "2035.jpg\n",
            "2036.jpg\n",
            "2037.jpg\n",
            "2038.jpg\n",
            "2039.jpg\n",
            "2040.jpg\n",
            "2200.jpg\n",
            "2201.jpg\n",
            "2202.jpg\n",
            "2203.jpg\n",
            "2204.jpg\n",
            "2205.jpg\n",
            "2206.jpg\n",
            "2207.jpg\n",
            "2208.jpg\n",
            "2209.jpg\n",
            "2210.jpg\n",
            "2211.jpg\n",
            "2212.jpg\n",
            "2213.jpg\n",
            "2214.jpg\n",
            "2215.jpg\n",
            "2216.jpg\n",
            "2217.jpg\n",
            "2218.jpg\n",
            "2219.jpg\n",
            "2220.jpg\n",
            "2221.jpg\n",
            "2222.jpg\n",
            "2223.jpg\n",
            "2224.jpg\n",
            "2225.jpg\n",
            "2226.jpg\n",
            "2227.jpg\n",
            "2228.jpg\n",
            "2229.jpg\n",
            "2230.jpg\n",
            "2231.jpg\n",
            "2232.jpg\n",
            "2233.jpg\n",
            "2234.jpg\n",
            "2235.jpg\n",
            "2236.jpg\n",
            "2237.jpg\n",
            "2238.jpg\n",
            "2239.jpg\n",
            "2240.jpg\n"
          ]
        }
      ],
      "source": [
        "# Taking the path of every images inside different folders\n",
        "dirs = p.glob(\"*\")\n",
        "name = []\n",
        "for folders in dirs:\n",
        "    #print(folders)\n",
        "    label = str(folders).split(\"\\\\\")[-1]\n",
        "    #print(label)\n",
        "    for img_path in folders.glob('*.jpg'):\n",
        "        print(str(img_path).split('\\\\')[-1])\n",
        "        name.append(str(img_path).split('\\\\')[-1])"
      ]
    },
    {
      "cell_type": "code",
      "execution_count": null,
      "id": "46458ec3",
      "metadata": {
        "id": "46458ec3",
        "outputId": "67d761f1-0979-4cc6-86fe-3db144b2644b"
      },
      "outputs": [
        {
          "data": {
            "text/html": [
              "<div>\n",
              "<style scoped>\n",
              "    .dataframe tbody tr th:only-of-type {\n",
              "        vertical-align: middle;\n",
              "    }\n",
              "\n",
              "    .dataframe tbody tr th {\n",
              "        vertical-align: top;\n",
              "    }\n",
              "\n",
              "    .dataframe thead th {\n",
              "        text-align: right;\n",
              "    }\n",
              "</style>\n",
              "<table border=\"1\" class=\"dataframe\">\n",
              "  <thead>\n",
              "    <tr style=\"text-align: right;\">\n",
              "      <th></th>\n",
              "      <th>0</th>\n",
              "    </tr>\n",
              "  </thead>\n",
              "  <tbody>\n",
              "    <tr>\n",
              "      <th>0</th>\n",
              "      <td>1100.jpg</td>\n",
              "    </tr>\n",
              "    <tr>\n",
              "      <th>1</th>\n",
              "      <td>1101.jpg</td>\n",
              "    </tr>\n",
              "    <tr>\n",
              "      <th>2</th>\n",
              "      <td>1102.jpg</td>\n",
              "    </tr>\n",
              "    <tr>\n",
              "      <th>3</th>\n",
              "      <td>1103.jpg</td>\n",
              "    </tr>\n",
              "    <tr>\n",
              "      <th>4</th>\n",
              "      <td>1104.jpg</td>\n",
              "    </tr>\n",
              "    <tr>\n",
              "      <th>...</th>\n",
              "      <td>...</td>\n",
              "    </tr>\n",
              "    <tr>\n",
              "      <th>118</th>\n",
              "      <td>2236.jpg</td>\n",
              "    </tr>\n",
              "    <tr>\n",
              "      <th>119</th>\n",
              "      <td>2237.jpg</td>\n",
              "    </tr>\n",
              "    <tr>\n",
              "      <th>120</th>\n",
              "      <td>2238.jpg</td>\n",
              "    </tr>\n",
              "    <tr>\n",
              "      <th>121</th>\n",
              "      <td>2239.jpg</td>\n",
              "    </tr>\n",
              "    <tr>\n",
              "      <th>122</th>\n",
              "      <td>2240.jpg</td>\n",
              "    </tr>\n",
              "  </tbody>\n",
              "</table>\n",
              "<p>123 rows × 1 columns</p>\n",
              "</div>"
            ],
            "text/plain": [
              "            0\n",
              "0    1100.jpg\n",
              "1    1101.jpg\n",
              "2    1102.jpg\n",
              "3    1103.jpg\n",
              "4    1104.jpg\n",
              "..        ...\n",
              "118  2236.jpg\n",
              "119  2237.jpg\n",
              "120  2238.jpg\n",
              "121  2239.jpg\n",
              "122  2240.jpg\n",
              "\n",
              "[123 rows x 1 columns]"
            ]
          },
          "execution_count": 58,
          "metadata": {},
          "output_type": "execute_result"
        }
      ],
      "source": [
        "name = pd.DataFrame(name)\n",
        "name"
      ]
    },
    {
      "cell_type": "code",
      "execution_count": null,
      "id": "65884ca0",
      "metadata": {
        "id": "65884ca0"
      },
      "outputs": [],
      "source": [
        "submission = pd.concat([name,ypred],axis=1)"
      ]
    },
    {
      "cell_type": "code",
      "execution_count": null,
      "id": "57f00816",
      "metadata": {
        "id": "57f00816",
        "outputId": "a51894f4-c8f0-458c-c191-e250bd968019"
      },
      "outputs": [
        {
          "data": {
            "text/html": [
              "<div>\n",
              "<style scoped>\n",
              "    .dataframe tbody tr th:only-of-type {\n",
              "        vertical-align: middle;\n",
              "    }\n",
              "\n",
              "    .dataframe tbody tr th {\n",
              "        vertical-align: top;\n",
              "    }\n",
              "\n",
              "    .dataframe thead th {\n",
              "        text-align: right;\n",
              "    }\n",
              "</style>\n",
              "<table border=\"1\" class=\"dataframe\">\n",
              "  <thead>\n",
              "    <tr style=\"text-align: right;\">\n",
              "      <th></th>\n",
              "      <th>ImageId</th>\n",
              "      <th>NameOfPokemon</th>\n",
              "    </tr>\n",
              "  </thead>\n",
              "  <tbody>\n",
              "    <tr>\n",
              "      <th>0</th>\n",
              "      <td>1100.jpg</td>\n",
              "      <td>Bulbasaur</td>\n",
              "    </tr>\n",
              "    <tr>\n",
              "      <th>1</th>\n",
              "      <td>1101.jpg</td>\n",
              "      <td>Bulbasaur</td>\n",
              "    </tr>\n",
              "    <tr>\n",
              "      <th>2</th>\n",
              "      <td>1102.jpg</td>\n",
              "      <td>Bulbasaur</td>\n",
              "    </tr>\n",
              "    <tr>\n",
              "      <th>3</th>\n",
              "      <td>1103.jpg</td>\n",
              "      <td>Bulbasaur</td>\n",
              "    </tr>\n",
              "    <tr>\n",
              "      <th>4</th>\n",
              "      <td>1104.jpg</td>\n",
              "      <td>Bulbasaur</td>\n",
              "    </tr>\n",
              "    <tr>\n",
              "      <th>...</th>\n",
              "      <td>...</td>\n",
              "      <td>...</td>\n",
              "    </tr>\n",
              "    <tr>\n",
              "      <th>118</th>\n",
              "      <td>2236.jpg</td>\n",
              "      <td>Charmander</td>\n",
              "    </tr>\n",
              "    <tr>\n",
              "      <th>119</th>\n",
              "      <td>2237.jpg</td>\n",
              "      <td>Charmander</td>\n",
              "    </tr>\n",
              "    <tr>\n",
              "      <th>120</th>\n",
              "      <td>2238.jpg</td>\n",
              "      <td>Charmander</td>\n",
              "    </tr>\n",
              "    <tr>\n",
              "      <th>121</th>\n",
              "      <td>2239.jpg</td>\n",
              "      <td>Charmander</td>\n",
              "    </tr>\n",
              "    <tr>\n",
              "      <th>122</th>\n",
              "      <td>2240.jpg</td>\n",
              "      <td>Charmander</td>\n",
              "    </tr>\n",
              "  </tbody>\n",
              "</table>\n",
              "<p>123 rows × 2 columns</p>\n",
              "</div>"
            ],
            "text/plain": [
              "      ImageId NameOfPokemon\n",
              "0    1100.jpg     Bulbasaur\n",
              "1    1101.jpg     Bulbasaur\n",
              "2    1102.jpg     Bulbasaur\n",
              "3    1103.jpg     Bulbasaur\n",
              "4    1104.jpg     Bulbasaur\n",
              "..        ...           ...\n",
              "118  2236.jpg    Charmander\n",
              "119  2237.jpg    Charmander\n",
              "120  2238.jpg    Charmander\n",
              "121  2239.jpg    Charmander\n",
              "122  2240.jpg    Charmander\n",
              "\n",
              "[123 rows x 2 columns]"
            ]
          },
          "execution_count": 62,
          "metadata": {},
          "output_type": "execute_result"
        }
      ],
      "source": [
        "submission.columns = columns = ['ImageId','NameOfPokemon']\n",
        "submission"
      ]
    },
    {
      "cell_type": "code",
      "execution_count": null,
      "id": "6d9d032b",
      "metadata": {
        "id": "6d9d032b"
      },
      "outputs": [],
      "source": [
        "submission.to_csv('TYSM.csv',index=False)"
      ]
    },
    {
      "cell_type": "code",
      "execution_count": null,
      "id": "6df38e88",
      "metadata": {
        "id": "6df38e88"
      },
      "outputs": [],
      "source": [
        "ss = pd.read_csv('abc.csv')"
      ]
    },
    {
      "cell_type": "code",
      "execution_count": null,
      "id": "5f32bc7e",
      "metadata": {
        "id": "5f32bc7e",
        "outputId": "d2b450d9-c978-435e-bafb-11e83462dc38"
      },
      "outputs": [
        {
          "data": {
            "text/html": [
              "<div>\n",
              "<style scoped>\n",
              "    .dataframe tbody tr th:only-of-type {\n",
              "        vertical-align: middle;\n",
              "    }\n",
              "\n",
              "    .dataframe tbody tr th {\n",
              "        vertical-align: top;\n",
              "    }\n",
              "\n",
              "    .dataframe thead th {\n",
              "        text-align: right;\n",
              "    }\n",
              "</style>\n",
              "<table border=\"1\" class=\"dataframe\">\n",
              "  <thead>\n",
              "    <tr style=\"text-align: right;\">\n",
              "      <th></th>\n",
              "      <th>ImageId</th>\n",
              "    </tr>\n",
              "  </thead>\n",
              "  <tbody>\n",
              "    <tr>\n",
              "      <th>0</th>\n",
              "      <td>1106.jpg</td>\n",
              "    </tr>\n",
              "    <tr>\n",
              "      <th>1</th>\n",
              "      <td>2236.jpg</td>\n",
              "    </tr>\n",
              "    <tr>\n",
              "      <th>2</th>\n",
              "      <td>1131.jpg</td>\n",
              "    </tr>\n",
              "    <tr>\n",
              "      <th>3</th>\n",
              "      <td>2221.jpg</td>\n",
              "    </tr>\n",
              "    <tr>\n",
              "      <th>4</th>\n",
              "      <td>2011.jpg</td>\n",
              "    </tr>\n",
              "    <tr>\n",
              "      <th>...</th>\n",
              "      <td>...</td>\n",
              "    </tr>\n",
              "    <tr>\n",
              "      <th>118</th>\n",
              "      <td>1124.jpg</td>\n",
              "    </tr>\n",
              "    <tr>\n",
              "      <th>119</th>\n",
              "      <td>2014.jpg</td>\n",
              "    </tr>\n",
              "    <tr>\n",
              "      <th>120</th>\n",
              "      <td>2235.jpg</td>\n",
              "    </tr>\n",
              "    <tr>\n",
              "      <th>121</th>\n",
              "      <td>1126.jpg</td>\n",
              "    </tr>\n",
              "    <tr>\n",
              "      <th>122</th>\n",
              "      <td>2021.jpg</td>\n",
              "    </tr>\n",
              "  </tbody>\n",
              "</table>\n",
              "<p>123 rows × 1 columns</p>\n",
              "</div>"
            ],
            "text/plain": [
              "      ImageId\n",
              "0    1106.jpg\n",
              "1    2236.jpg\n",
              "2    1131.jpg\n",
              "3    2221.jpg\n",
              "4    2011.jpg\n",
              "..        ...\n",
              "118  1124.jpg\n",
              "119  2014.jpg\n",
              "120  2235.jpg\n",
              "121  1126.jpg\n",
              "122  2021.jpg\n",
              "\n",
              "[123 rows x 1 columns]"
            ]
          },
          "execution_count": 67,
          "metadata": {},
          "output_type": "execute_result"
        }
      ],
      "source": [
        "pred = []\n",
        "for i in range(0,123):\n",
        "    ss.ImageId[i]"
      ]
    },
    {
      "cell_type": "code",
      "execution_count": null,
      "id": "268557ae",
      "metadata": {
        "id": "268557ae"
      },
      "outputs": [],
      "source": [
        "final = pd.merge(ss,submission,on='ImageId')"
      ]
    },
    {
      "cell_type": "code",
      "execution_count": null,
      "id": "da6c0eb8",
      "metadata": {
        "id": "da6c0eb8",
        "outputId": "756d4dde-1dca-4603-b697-27f34812f83c"
      },
      "outputs": [
        {
          "data": {
            "text/html": [
              "<div>\n",
              "<style scoped>\n",
              "    .dataframe tbody tr th:only-of-type {\n",
              "        vertical-align: middle;\n",
              "    }\n",
              "\n",
              "    .dataframe tbody tr th {\n",
              "        vertical-align: top;\n",
              "    }\n",
              "\n",
              "    .dataframe thead th {\n",
              "        text-align: right;\n",
              "    }\n",
              "</style>\n",
              "<table border=\"1\" class=\"dataframe\">\n",
              "  <thead>\n",
              "    <tr style=\"text-align: right;\">\n",
              "      <th></th>\n",
              "      <th>ImageId</th>\n",
              "      <th>NameOfPokemon</th>\n",
              "    </tr>\n",
              "  </thead>\n",
              "  <tbody>\n",
              "    <tr>\n",
              "      <th>0</th>\n",
              "      <td>1106.jpg</td>\n",
              "      <td>Bulbasaur</td>\n",
              "    </tr>\n",
              "    <tr>\n",
              "      <th>1</th>\n",
              "      <td>2236.jpg</td>\n",
              "      <td>Charmander</td>\n",
              "    </tr>\n",
              "    <tr>\n",
              "      <th>2</th>\n",
              "      <td>1131.jpg</td>\n",
              "      <td>Bulbasaur</td>\n",
              "    </tr>\n",
              "    <tr>\n",
              "      <th>3</th>\n",
              "      <td>2221.jpg</td>\n",
              "      <td>Charmander</td>\n",
              "    </tr>\n",
              "    <tr>\n",
              "      <th>4</th>\n",
              "      <td>2011.jpg</td>\n",
              "      <td>Charmander</td>\n",
              "    </tr>\n",
              "    <tr>\n",
              "      <th>...</th>\n",
              "      <td>...</td>\n",
              "      <td>...</td>\n",
              "    </tr>\n",
              "    <tr>\n",
              "      <th>118</th>\n",
              "      <td>1124.jpg</td>\n",
              "      <td>Bulbasaur</td>\n",
              "    </tr>\n",
              "    <tr>\n",
              "      <th>119</th>\n",
              "      <td>2014.jpg</td>\n",
              "      <td>Pikachu</td>\n",
              "    </tr>\n",
              "    <tr>\n",
              "      <th>120</th>\n",
              "      <td>2235.jpg</td>\n",
              "      <td>Charmander</td>\n",
              "    </tr>\n",
              "    <tr>\n",
              "      <th>121</th>\n",
              "      <td>1126.jpg</td>\n",
              "      <td>Bulbasaur</td>\n",
              "    </tr>\n",
              "    <tr>\n",
              "      <th>122</th>\n",
              "      <td>2021.jpg</td>\n",
              "      <td>Charmander</td>\n",
              "    </tr>\n",
              "  </tbody>\n",
              "</table>\n",
              "<p>123 rows × 2 columns</p>\n",
              "</div>"
            ],
            "text/plain": [
              "      ImageId NameOfPokemon\n",
              "0    1106.jpg     Bulbasaur\n",
              "1    2236.jpg    Charmander\n",
              "2    1131.jpg     Bulbasaur\n",
              "3    2221.jpg    Charmander\n",
              "4    2011.jpg    Charmander\n",
              "..        ...           ...\n",
              "118  1124.jpg     Bulbasaur\n",
              "119  2014.jpg       Pikachu\n",
              "120  2235.jpg    Charmander\n",
              "121  1126.jpg     Bulbasaur\n",
              "122  2021.jpg    Charmander\n",
              "\n",
              "[123 rows x 2 columns]"
            ]
          },
          "execution_count": 72,
          "metadata": {},
          "output_type": "execute_result"
        }
      ],
      "source": [
        "final"
      ]
    },
    {
      "cell_type": "code",
      "execution_count": null,
      "id": "30cae0be",
      "metadata": {
        "id": "30cae0be"
      },
      "outputs": [],
      "source": [
        "final.to_csv('TYSM.csv',index=False)"
      ]
    },
    {
      "cell_type": "code",
      "execution_count": null,
      "id": "ebd0924b",
      "metadata": {
        "id": "ebd0924b"
      },
      "outputs": [],
      "source": [
        ""
      ]
    },
    {
      "cell_type": "code",
      "execution_count": null,
      "id": "9bad8941",
      "metadata": {
        "id": "9bad8941"
      },
      "outputs": [],
      "source": [
        ""
      ]
    },
    {
      "cell_type": "code",
      "execution_count": null,
      "id": "bb2ed18f",
      "metadata": {
        "id": "bb2ed18f"
      },
      "outputs": [],
      "source": [
        ""
      ]
    },
    {
      "cell_type": "code",
      "execution_count": null,
      "id": "457e33bf",
      "metadata": {
        "id": "457e33bf"
      },
      "outputs": [],
      "source": [
        ""
      ]
    },
    {
      "cell_type": "code",
      "execution_count": null,
      "id": "07f34ff8",
      "metadata": {
        "id": "07f34ff8"
      },
      "outputs": [],
      "source": [
        ""
      ]
    },
    {
      "cell_type": "code",
      "execution_count": null,
      "id": "d4474371",
      "metadata": {
        "id": "d4474371"
      },
      "outputs": [],
      "source": [
        ""
      ]
    },
    {
      "cell_type": "code",
      "execution_count": null,
      "id": "0f606379",
      "metadata": {
        "id": "0f606379"
      },
      "outputs": [],
      "source": [
        ""
      ]
    },
    {
      "cell_type": "code",
      "execution_count": null,
      "id": "a116f15f",
      "metadata": {
        "id": "a116f15f"
      },
      "outputs": [],
      "source": [
        ""
      ]
    },
    {
      "cell_type": "code",
      "execution_count": null,
      "id": "bc1df823",
      "metadata": {
        "id": "bc1df823"
      },
      "outputs": [],
      "source": [
        ""
      ]
    },
    {
      "cell_type": "code",
      "execution_count": null,
      "id": "69baaaf7",
      "metadata": {
        "id": "69baaaf7"
      },
      "outputs": [],
      "source": [
        ""
      ]
    },
    {
      "cell_type": "code",
      "execution_count": null,
      "id": "647e6b9c",
      "metadata": {
        "id": "647e6b9c"
      },
      "outputs": [],
      "source": [
        ""
      ]
    },
    {
      "cell_type": "code",
      "execution_count": null,
      "id": "a379af0b",
      "metadata": {
        "id": "a379af0b"
      },
      "outputs": [],
      "source": [
        ""
      ]
    },
    {
      "cell_type": "code",
      "execution_count": null,
      "id": "6aa78524",
      "metadata": {
        "id": "6aa78524"
      },
      "outputs": [],
      "source": [
        ""
      ]
    }
  ],
  "metadata": {
    "kernelspec": {
      "display_name": "Python 3 (ipykernel)",
      "language": "python",
      "name": "python3"
    },
    "language_info": {
      "codemirror_mode": {
        "name": "ipython",
        "version": 3
      },
      "file_extension": ".py",
      "mimetype": "text/x-python",
      "name": "python",
      "nbconvert_exporter": "python",
      "pygments_lexer": "ipython3",
      "version": "3.9.10"
    },
    "colab": {
      "name": "Pokemon Classification (Image,SVM).ipynb",
      "provenance": [],
      "include_colab_link": true
    }
  },
  "nbformat": 4,
  "nbformat_minor": 5
}