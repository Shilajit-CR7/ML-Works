{
  "cells": [
    {
      "cell_type": "markdown",
      "metadata": {
        "id": "view-in-github",
        "colab_type": "text"
      },
      "source": [
        "<a href=\"https://colab.research.google.com/github/Shilajit-CR7/ML-Works/blob/main/Movie_Review_Analysis.ipynb\" target=\"_parent\"><img src=\"https://colab.research.google.com/assets/colab-badge.svg\" alt=\"Open In Colab\"/></a>"
      ]
    },
    {
      "cell_type": "code",
      "execution_count": null,
      "id": "8fdc6f6c",
      "metadata": {
        "id": "8fdc6f6c"
      },
      "outputs": [],
      "source": [
        "import pandas as pd\n",
        "import numpy as np"
      ]
    },
    {
      "cell_type": "code",
      "execution_count": null,
      "id": "23a3d18b",
      "metadata": {
        "id": "23a3d18b"
      },
      "outputs": [],
      "source": [
        "df = pd.read_csv('movie_review.csv')"
      ]
    },
    {
      "cell_type": "code",
      "execution_count": null,
      "id": "2fa3db9e",
      "metadata": {
        "id": "2fa3db9e"
      },
      "outputs": [],
      "source": [
        "text = df['review'][0]"
      ]
    },
    {
      "cell_type": "code",
      "execution_count": null,
      "id": "6f2e05f2",
      "metadata": {
        "id": "6f2e05f2",
        "outputId": "d6f29f14-fac3-45c1-f9ad-0518c659cd14"
      },
      "outputs": [
        {
          "data": {
            "text/plain": [
              "\"mature intelligent and highly charged melodrama unbelivebly filmed in China in 1948. wei wei's stunning performance as the catylast in a love triangle is simply stunning if you have the oppurunity to see this magnificent film take it\""
            ]
          },
          "execution_count": 137,
          "metadata": {},
          "output_type": "execute_result"
        }
      ],
      "source": [
        "text"
      ]
    },
    {
      "cell_type": "code",
      "execution_count": null,
      "id": "1768f0fe",
      "metadata": {
        "id": "1768f0fe",
        "outputId": "5c8b2356-ac84-4162-cce1-1f615b195cd9"
      },
      "outputs": [
        {
          "data": {
            "text/html": [
              "<div>\n",
              "<style scoped>\n",
              "    .dataframe tbody tr th:only-of-type {\n",
              "        vertical-align: middle;\n",
              "    }\n",
              "\n",
              "    .dataframe tbody tr th {\n",
              "        vertical-align: top;\n",
              "    }\n",
              "\n",
              "    .dataframe thead th {\n",
              "        text-align: right;\n",
              "    }\n",
              "</style>\n",
              "<table border=\"1\" class=\"dataframe\">\n",
              "  <thead>\n",
              "    <tr style=\"text-align: right;\">\n",
              "      <th></th>\n",
              "      <th>review</th>\n",
              "      <th>label</th>\n",
              "    </tr>\n",
              "  </thead>\n",
              "  <tbody>\n",
              "    <tr>\n",
              "      <th>0</th>\n",
              "      <td>mature intelligent and highly charged melodram...</td>\n",
              "      <td>pos</td>\n",
              "    </tr>\n",
              "    <tr>\n",
              "      <th>1</th>\n",
              "      <td>http://video.google.com/videoplay?docid=211772...</td>\n",
              "      <td>pos</td>\n",
              "    </tr>\n",
              "    <tr>\n",
              "      <th>2</th>\n",
              "      <td>Title: Opera (1987) Director: Dario Argento Ca...</td>\n",
              "      <td>pos</td>\n",
              "    </tr>\n",
              "    <tr>\n",
              "      <th>3</th>\n",
              "      <td>I think a lot of people just wrote this off as...</td>\n",
              "      <td>pos</td>\n",
              "    </tr>\n",
              "    <tr>\n",
              "      <th>4</th>\n",
              "      <td>This is a story of two dogs and a cat looking ...</td>\n",
              "      <td>pos</td>\n",
              "    </tr>\n",
              "  </tbody>\n",
              "</table>\n",
              "</div>"
            ],
            "text/plain": [
              "                                              review label\n",
              "0  mature intelligent and highly charged melodram...   pos\n",
              "1  http://video.google.com/videoplay?docid=211772...   pos\n",
              "2  Title: Opera (1987) Director: Dario Argento Ca...   pos\n",
              "3  I think a lot of people just wrote this off as...   pos\n",
              "4  This is a story of two dogs and a cat looking ...   pos"
            ]
          },
          "execution_count": 138,
          "metadata": {},
          "output_type": "execute_result"
        }
      ],
      "source": [
        "df.head()"
      ]
    },
    {
      "cell_type": "code",
      "execution_count": null,
      "id": "416a61e6",
      "metadata": {
        "id": "416a61e6"
      },
      "outputs": [],
      "source": [
        "x = df['review']\n",
        "y = df['label']"
      ]
    },
    {
      "cell_type": "code",
      "execution_count": null,
      "id": "39359d20",
      "metadata": {
        "id": "39359d20",
        "outputId": "be652e07-30e5-479a-f5f3-f22223a77acb"
      },
      "outputs": [
        {
          "data": {
            "text/plain": [
              "0        pos\n",
              "1        pos\n",
              "2        pos\n",
              "3        pos\n",
              "4        pos\n",
              "        ... \n",
              "39995    neg\n",
              "39996    neg\n",
              "39997    neg\n",
              "39998    pos\n",
              "39999    pos\n",
              "Name: label, Length: 40000, dtype: object"
            ]
          },
          "execution_count": 140,
          "metadata": {},
          "output_type": "execute_result"
        }
      ],
      "source": [
        "y"
      ]
    },
    {
      "cell_type": "code",
      "execution_count": null,
      "id": "bcf02c8c",
      "metadata": {
        "id": "bcf02c8c"
      },
      "outputs": [],
      "source": [
        "test = pd.read_csv('m_test.csv')\n",
        "test = test['review']"
      ]
    },
    {
      "cell_type": "markdown",
      "id": "47033c35",
      "metadata": {
        "id": "47033c35"
      },
      "source": [
        "# NLTK(Review Cleaning)"
      ]
    },
    {
      "cell_type": "code",
      "execution_count": null,
      "id": "31bb0daa",
      "metadata": {
        "id": "31bb0daa"
      },
      "outputs": [],
      "source": [
        "from nltk.tokenize import RegexpTokenizer\n",
        "from nltk.stem.porter import PorterStemmer\n",
        "from nltk.corpus import stopwords"
      ]
    },
    {
      "cell_type": "code",
      "execution_count": null,
      "id": "08d04d95",
      "metadata": {
        "id": "08d04d95"
      },
      "outputs": [],
      "source": [
        "tokenizer = RegexpTokenizer(r'\\w+') # Reg exp for all words\n",
        "sw = set(stopwords.words('english'))\n",
        "ps = PorterStemmer()"
      ]
    },
    {
      "cell_type": "code",
      "execution_count": null,
      "id": "0fe4325d",
      "metadata": {
        "id": "0fe4325d"
      },
      "outputs": [],
      "source": [
        "def stemmed_review(review):\n",
        "    review = review.lower()\n",
        "    reviw = review.replace(\"<br /><br />\",\"\") #if html scrapped data.\n",
        "    \n",
        "    # Tokenization\n",
        "    tokens = tokenizer.tokenize(review)\n",
        "    \n",
        "    #Stopword filter\n",
        "    new_token = [w for w in tokens if w not in sw]\n",
        "    \n",
        "    # Stemming\n",
        "    stemmed_tokens = [ps.stem(w) for w in new_token]\n",
        "    \n",
        "    cleaned_review = ' '.join(stemmed_tokens)\n",
        "    return cleaned_review\n",
        "    "
      ]
    },
    {
      "cell_type": "code",
      "execution_count": null,
      "id": "901b6781",
      "metadata": {
        "id": "901b6781"
      },
      "outputs": [],
      "source": [
        "x = x[:200]\n",
        "y = y[:200]"
      ]
    },
    {
      "cell_type": "code",
      "execution_count": null,
      "id": "f64a15ae",
      "metadata": {
        "id": "f64a15ae"
      },
      "outputs": [],
      "source": [
        "x_clean = x.copy()\n",
        "for i in range(0,len(x_clean)):\n",
        "    x_clean[i] = stemmed_review(x_clean[i])"
      ]
    },
    {
      "cell_type": "code",
      "execution_count": null,
      "id": "1a68c821",
      "metadata": {
        "id": "1a68c821"
      },
      "outputs": [],
      "source": [
        "x_clean = list(x_clean)"
      ]
    },
    {
      "cell_type": "code",
      "execution_count": null,
      "id": "c276c77c",
      "metadata": {
        "id": "c276c77c"
      },
      "outputs": [],
      "source": [
        "y = pd.DataFrame(y)"
      ]
    },
    {
      "cell_type": "code",
      "execution_count": null,
      "id": "9fd94049",
      "metadata": {
        "id": "9fd94049"
      },
      "outputs": [],
      "source": [
        "from sklearn.preprocessing import LabelEncoder\n",
        "le = LabelEncoder()\n",
        "y = y.apply(le.fit_transform)"
      ]
    },
    {
      "cell_type": "code",
      "execution_count": null,
      "id": "d164d5a5",
      "metadata": {
        "id": "d164d5a5"
      },
      "outputs": [],
      "source": [
        "x = pd.DataFrame(x)"
      ]
    },
    {
      "cell_type": "code",
      "execution_count": null,
      "id": "65fc8066",
      "metadata": {
        "id": "65fc8066",
        "outputId": "d92aac8d-61b5-48ee-a925-3bb3f6049d3a"
      },
      "outputs": [
        {
          "data": {
            "text/plain": [
              "0       Remember those old kung fu movies we used to w...\n",
              "1       This movie is another one on my List of Movies...\n",
              "2       How in the world does a thing like this get in...\n",
              "3       \"Queen of the Damned\" is one of the best vampi...\n",
              "4       The Caprica episode (S01E01) is well done as a...\n",
              "                              ...                        \n",
              "9995    Watched this piece ONDEMAND because the descri...\n",
              "9996    A nurse travels to a rural psychiatric clinic ...\n",
              "9997    Although this small film kind of got lost in t...\n",
              "9998    I first saw this film in the early 80's on cab...\n",
              "9999    Recognizing the picture of the diner on the co...\n",
              "Name: review, Length: 10000, dtype: object"
            ]
          },
          "execution_count": 150,
          "metadata": {},
          "output_type": "execute_result"
        }
      ],
      "source": [
        "test"
      ]
    },
    {
      "cell_type": "code",
      "execution_count": null,
      "id": "cdcc5402",
      "metadata": {
        "id": "cdcc5402"
      },
      "outputs": [],
      "source": [
        "test = test[:200]"
      ]
    },
    {
      "cell_type": "code",
      "execution_count": null,
      "id": "233834e6",
      "metadata": {
        "id": "233834e6"
      },
      "outputs": [],
      "source": [
        "test_clean = test.copy()\n",
        "for i in range(0,len(test_clean)):\n",
        "    test_clean[i] = stemmed_review(test_clean[i])"
      ]
    },
    {
      "cell_type": "code",
      "execution_count": null,
      "id": "fdd8c72e",
      "metadata": {
        "id": "fdd8c72e",
        "outputId": "002a0826-179a-4ca9-e4e7-f805c5e20ff1"
      },
      "outputs": [
        {
          "data": {
            "text/plain": [
              "0      rememb old kung fu movi use watch friday satur...\n",
              "1      movi anoth one list movi bother saw 40 year ag...\n",
              "2      world thing like get dvd player home even get ...\n",
              "3      queen damn one best vampir movi ever seen movi...\n",
              "4      caprica episod s01e01 well done pilot realli e...\n",
              "                             ...                        \n",
              "195    cast budget expect br br john cusack made numb...\n",
              "196    movi two new featur relat messag convey equal ...\n",
              "197    kind film use make amus heart warm troubl auth...\n",
              "198    would thought movi man drive coupl hundr mile ...\n",
              "199    1 seen branagh hamlet branagh old speak freque...\n",
              "Name: review, Length: 200, dtype: object"
            ]
          },
          "execution_count": 114,
          "metadata": {},
          "output_type": "execute_result"
        }
      ],
      "source": [
        "test_clean"
      ]
    },
    {
      "cell_type": "code",
      "execution_count": 1,
      "id": "a049a8a1",
      "metadata": {
        "id": "a049a8a1"
      },
      "outputs": [],
      "source": [
        "#fg"
      ]
    },
    {
      "cell_type": "code",
      "execution_count": null,
      "id": "e9bcf32a",
      "metadata": {
        "id": "e9bcf32a"
      },
      "outputs": [],
      "source": [
        "fg = list(test_clean)\n",
        "fg = fg[:500]"
      ]
    },
    {
      "cell_type": "code",
      "execution_count": null,
      "id": "ee2a136d",
      "metadata": {
        "id": "ee2a136d",
        "outputId": "b3ba40e3-d569-4225-ef05-21017a0f08c8"
      },
      "outputs": [
        {
          "data": {
            "text/html": [
              "<div>\n",
              "<style scoped>\n",
              "    .dataframe tbody tr th:only-of-type {\n",
              "        vertical-align: middle;\n",
              "    }\n",
              "\n",
              "    .dataframe tbody tr th {\n",
              "        vertical-align: top;\n",
              "    }\n",
              "\n",
              "    .dataframe thead th {\n",
              "        text-align: right;\n",
              "    }\n",
              "</style>\n",
              "<table border=\"1\" class=\"dataframe\">\n",
              "  <thead>\n",
              "    <tr style=\"text-align: right;\">\n",
              "      <th></th>\n",
              "      <th>label</th>\n",
              "    </tr>\n",
              "  </thead>\n",
              "  <tbody>\n",
              "    <tr>\n",
              "      <th>0</th>\n",
              "      <td>1</td>\n",
              "    </tr>\n",
              "    <tr>\n",
              "      <th>1</th>\n",
              "      <td>1</td>\n",
              "    </tr>\n",
              "    <tr>\n",
              "      <th>2</th>\n",
              "      <td>1</td>\n",
              "    </tr>\n",
              "    <tr>\n",
              "      <th>3</th>\n",
              "      <td>1</td>\n",
              "    </tr>\n",
              "    <tr>\n",
              "      <th>4</th>\n",
              "      <td>1</td>\n",
              "    </tr>\n",
              "    <tr>\n",
              "      <th>...</th>\n",
              "      <td>...</td>\n",
              "    </tr>\n",
              "    <tr>\n",
              "      <th>39995</th>\n",
              "      <td>0</td>\n",
              "    </tr>\n",
              "    <tr>\n",
              "      <th>39996</th>\n",
              "      <td>0</td>\n",
              "    </tr>\n",
              "    <tr>\n",
              "      <th>39997</th>\n",
              "      <td>0</td>\n",
              "    </tr>\n",
              "    <tr>\n",
              "      <th>39998</th>\n",
              "      <td>1</td>\n",
              "    </tr>\n",
              "    <tr>\n",
              "      <th>39999</th>\n",
              "      <td>1</td>\n",
              "    </tr>\n",
              "  </tbody>\n",
              "</table>\n",
              "<p>40000 rows × 1 columns</p>\n",
              "</div>"
            ],
            "text/plain": [
              "       label\n",
              "0          1\n",
              "1          1\n",
              "2          1\n",
              "3          1\n",
              "4          1\n",
              "...      ...\n",
              "39995      0\n",
              "39996      0\n",
              "39997      0\n",
              "39998      1\n",
              "39999      1\n",
              "\n",
              "[40000 rows x 1 columns]"
            ]
          },
          "execution_count": 152,
          "metadata": {},
          "output_type": "execute_result"
        }
      ],
      "source": [
        "y"
      ]
    },
    {
      "cell_type": "markdown",
      "id": "3929f329",
      "metadata": {
        "id": "3929f329"
      },
      "source": [
        "# Vectorization"
      ]
    },
    {
      "cell_type": "code",
      "execution_count": null,
      "id": "822fa610",
      "metadata": {
        "id": "822fa610"
      },
      "outputs": [],
      "source": [
        "from sklearn.feature_extraction.text import CountVectorizer\n",
        "cv = CountVectorizer()"
      ]
    },
    {
      "cell_type": "code",
      "execution_count": null,
      "id": "278b55c4",
      "metadata": {
        "id": "278b55c4"
      },
      "outputs": [],
      "source": [
        "x_vec = cv.fit_transform(x_clean).toarray()"
      ]
    },
    {
      "cell_type": "code",
      "execution_count": null,
      "id": "d0ed6834",
      "metadata": {
        "id": "d0ed6834",
        "outputId": "e297e006-918b-4d73-98c9-5e923db5f5a3"
      },
      "outputs": [
        {
          "data": {
            "text/plain": [
              "(40000, 65742)"
            ]
          },
          "execution_count": 164,
          "metadata": {},
          "output_type": "execute_result"
        }
      ],
      "source": [
        "x_vec.shape"
      ]
    },
    {
      "cell_type": "code",
      "execution_count": null,
      "id": "e645f1c1",
      "metadata": {
        "id": "e645f1c1",
        "outputId": "85e80c58-118a-453c-984d-09107b770bb7"
      },
      "outputs": [
        {
          "name": "stdout",
          "output_type": "stream",
          "text": [
            "['00', '000', '02', '10', '100', '1000', '100yard', '11', '12', '122', '12a', '14', '15', '17', '17th', '18', '180', '1800', '1860', '1899', '19', '1904', '1916', '1930', '1937', '1939', '1941', '1945', '1947', '1948', '1950', '1957', '1959', '1960', '1963', '1965', '1968', '1970', '1974', '1975', '1977', '1980', '1981', '1985', '1987', '1988', '1990', '1993', '1994', '1996', '1997', '1999', '19th', '1ch', '1h30', '20', '2003', '2007', '2009', '2010', '20th', '21', '211772166650071408', '23rd', '24', '25', '2nd', '30', '3000', '3am', '3d', '40', '41', '440', '450', '45rpm', '4th', '50', '5th', '60', '68', '70', '80', '85', '89', '90', '900', '96', '_____', '______', '____________________________________', '_am_', 'aam', 'abc', 'abduct', 'abil', 'abl', 'abnorm', 'aboard', 'abomin', 'aborigin', 'abort', 'abound', 'abril', 'abrupt', 'absenc', 'absolut', 'absorb', 'absurd', 'abus', 'abyss', 'academi', 'accent', 'accentu', 'accept', 'accid', 'accident', 'acclaim', 'accommod', 'accompani', 'accomplish', 'accord', 'accur', 'accus', 'achiev', 'acid', 'acknowledg', 'acquaint', 'acquir', 'across', 'act', 'action', 'activ', 'actor', 'actress', 'actual', 'ad', 'adam', 'adapt', 'add', 'addit', 'adept', 'adequ', 'adjac', 'adjust', 'admir', 'admiss', 'admit', 'admonit', 'adolesc', 'adolf', 'adult', 'advanc', 'advantag', 'adventur', 'adversari', 'advic', 'advis', 'aerial', 'aerob', 'aerosol', 'aesthet', 'affair', 'affect', 'affin', 'afflict', 'afford', 'affter', 'afghan', 'afghanistan', 'afraid', 'african', 'afteral', 'afternnon', 'afternoon', 'afterward', 'age', 'agn', 'ago', 'agrama', 'ah', 'ahead', 'aid', 'aim', 'aimless', 'air', 'airhead', 'airplan', 'aka', 'al', 'albeit', 'album', 'alcohol', 'aldrich', 'alegria', 'alex', 'alfr', 'alic', 'alien', 'alik', 'aliv', 'allan', 'alleg', 'allen', 'alli', 'alloc', 'allot', 'allow', 'allud', 'allur', 'almighti', 'almost', 'alon', 'aloneâ', 'along', 'alreadi', 'alright', 'also', 'altar', 'alterio', 'altern', 'although', 'altman', 'alway', 'amagula', 'amateur', 'amateurish', 'amaz', 'amazon', 'ambigu', 'ambit', 'ambiti', 'ambros', 'amech', 'america', 'american', 'ami', 'amigo', 'amitabh', 'amok', 'among', 'amongst', 'amor', 'amount', 'amus', 'analysi', 'anatomi', 'anchorman', 'ancient', 'and', 'andrew', 'anesthesiologist', 'ang', 'angela', 'angelica', 'angelina', 'angina', 'angl', 'angri', 'angst', 'anim', 'animatron', 'anjanett', 'ann', 'anna', 'announc', 'annoy', 'annual', 'anonym', 'anorex', 'anoth', 'answer', 'ant', 'antagon', 'anthoni', 'anti', 'antic', 'antonio', 'antonioni', 'anybodi', 'anyhow', 'anymor', 'anyon', 'anyth', 'anytim', 'anyway', 'apart', 'apocalypt', 'apocryph', 'apolog', 'appar', 'apparit', 'appeal', 'appear', 'appetit', 'applaud', 'appli', 'appoint', 'appreci', 'approach', 'appropri', 'april', 'arbitrari', 'arbu', 'arcad', 'archetyp', 'area', 'argento', 'argu', 'arguabl', 'argument', 'aris', 'arkham', 'arlington', 'arm', 'armament', 'armi', 'armour', 'armstrong', 'around', 'arrang', 'arrest', 'arriv', 'arrog', 'art', 'arthur', 'articl', 'artist', 'artsi', 'asano', 'asham', 'asian', 'asid', 'asinin', 'ask', 'askey', 'asleep', 'aspect', 'aspir', 'ass', 'assassin', 'assault', 'assembl', 'assess', 'assign', 'assist', 'associ', 'assuag', 'assur', 'astin', 'astound', 'astoundingli', 'astronom', 'asylum', 'atkinson', 'atleast', 'atmospher', 'ator', 'atroci', 'attach', 'attack', 'attempt', 'attent', 'attorney', 'attract', 'atwil', 'audienc', 'audrey', 'auer', 'august', 'austen', 'auster', 'australia', 'austrian', 'authent', 'author', 'autobiographi', 'automan', 'automat', 'automobil', 'avail', 'averag', 'avoid', 'aw', 'await', 'awaken', 'award', 'away', 'awe', 'awesom', 'awkward', 'awkwardli', 'aya', 'babban', 'babi', 'babysit', 'bacio', 'back', 'backfir', 'background', 'backlash', 'backproject', 'backyard', 'bad', 'badland', 'badli', 'bag', 'baguett', 'baio', 'bake', 'baker', 'balboa', 'ball', 'ballet', 'baloney', 'band', 'bandera', 'bandwagon', 'bang', 'bankruptci', 'bar', 'barbara', 'barberini', 'barbra', 'barcelona', 'bardem', 'bare', 'barg', 'bargain', 'barn', 'baron', 'barrel', 'barren', 'barri', 'basanti', 'base', 'bash', 'basic', 'bassett', 'bat', 'bath', 'batman', 'battl', 'bava', 'bbc', 'bdsm', 'be', 'beach', 'beam', 'bear', 'bearli', 'beast', 'beat', 'beatrix', 'beauti', 'becam', 'becom', 'bed', 'bedroom', 'beer', 'beforehand', 'befriend', 'beg', 'began', 'begin', 'beguil', 'behav', 'behaviour', 'behind', 'belief', 'believ', 'bell', 'belli', 'belmondo', 'belong', 'belveder', 'ben', 'bench', 'benefit', 'benji', 'benkei', 'bergman', 'bergmanesqu', 'berlusconi', 'bertrand', 'besid', 'best', 'bet', 'beth', 'bethani', 'betray', 'bett', 'better', 'betti', 'bewar', 'bewitch', 'beyond', 'bias', 'bibl', 'bierko', 'big', 'bigfoot', 'bigger', 'biggest', 'bike', 'bikini', 'biko', 'bill', 'billi', 'binni', 'biograph', 'bipolar', 'bird', 'birth', 'birthday', 'bit', 'bite', 'bitten', 'biz', 'bizarr', 'blabber', 'black', 'blackish', 'blade', 'blah', 'blake', 'blame', 'bland', 'blandli', 'blankfield', 'blaster', 'blaxpoit', 'bleak', 'bled', 'bleed', 'blend', 'blew', 'blier', 'blind', 'blinder', 'blink', 'bloat', 'block', 'blockbust', 'blond', 'blood', 'bloodi', 'bloodshot', 'bloodsurf', 'blow', 'blown', 'blu', 'blue', 'blueprint', 'blunt', 'blyth', 'board', 'boat', 'bob', 'bobcat', 'bodi', 'bodili', 'bogdanovich', 'boggl', 'bogosian', 'bold', 'bolster', 'bolt', 'bomb', 'bond', 'bondag', 'bondarchuk', 'bone', 'bonfir', 'boni', 'bono', 'bonus', 'boogaloo', 'book', 'booth', 'border', 'bore', 'boredom', 'born', 'borrow', 'botan', 'bother', 'bottom', 'bought', 'bound', 'boundless', 'box', 'boy', 'boyfriend', 'br', 'brad', 'bradburi', 'braden', 'bradi', 'brain', 'branagh', 'brand', 'brandon', 'brash', 'brass', 'brat', 'brave', 'bravo', 'brazen', 'brazil', 'brazilian', 'break', 'breakdanc', 'breakfast', 'breakin', 'breath', 'breather', 'breathtak', 'brian', 'brick', 'brickman', 'bridg', 'bridget', 'brief', 'briefli', 'bright', 'brillianc', 'brilliant', 'brilliantli', 'bring', 'brink', 'british', 'bro', 'broadcast', 'broke', 'broken', 'bronchiti', 'bronx', 'brook', 'brother', 'brought', 'brown', 'brows', 'bruce', 'brunett', 'bruno', 'brutal', 'bryan', 'bs', 'buck', 'bud', 'budget', 'buffalo', 'buffoon', 'bug', 'build', 'built', 'bulgaria', 'bulgarian', 'bulimia', 'bulldog', 'bullet', 'bum', 'bump', 'bumpkin', 'bunch', 'bunni', 'burkina', 'burn', 'burner', 'burnford', 'burnham', 'burst', 'burt', 'burton', 'buscemi', 'bush', 'busi', 'butt', 'buy', 'cabl', 'caca', 'cadav', 'cage', 'cain', 'cait', 'cajol', 'caleb', 'california', 'calista', 'call', 'calm', 'calmli', 'cambodian', 'camcord', 'came', 'cameo', 'camera', 'cameron', 'camion', 'camp', 'campaign', 'campbel', 'campi', 'can', 'canada', 'canadian', 'candi', 'cannib', 'cannot', 'cant', 'capabl', 'capac', 'capit', 'caption', 'captur', 'car', 'card', 'cardboard', 'care', 'careen', 'career', 'carel', 'carey', 'cari', 'caricatur', 'carl', 'carla', 'carli', 'carlisl', 'carlo', 'carnival', 'carolin', 'carousel', 'carr', 'carrefour', 'carrel', 'carri', 'carrol', 'cart', 'cartoon', 'cartoonish', 'cartwright', 'case', 'cash', 'casino', 'cassavet', 'cassel', 'cast', 'castl', 'castrati', 'casual', 'cat', 'catastroph', 'catch', 'catchi', 'catepillar', 'cathol', 'catwoman', 'catylast', 'caught', 'cauliflow', 'caus', 'cavanagh', 'cave', 'cavedwel', 'caveman', 'caviar', 'ceil', 'celebr', 'cell', 'center', 'centerfold', 'central', 'centuri', 'ceo', 'cereal', 'ceremoni', 'certain', 'certainli', 'certif', 'cgi', 'ch', 'chain', 'challeng', 'chamber', 'chamberlain', 'chameleon', 'chan', 'chanc', 'chandler', 'chang', 'channel', 'chaotic', 'chapel', 'chaplin', 'charact', 'character', 'characteris', 'characterist', 'charg', 'charisma', 'charl', 'charlen', 'charleson', 'charli', 'charm', 'chase', 'chauvinist', 'cheang', 'cheap', 'cheaper', 'check', 'cheer', 'cheeri', 'chees', 'cheesi', 'chemic', 'chemistri', 'chen', 'cherish', 'cherub', 'chevalia', 'chew', 'chicago', 'chick', 'chicken', 'chide', 'chief', 'child', 'childhood', 'children', 'chile', 'chill', 'chiller', 'china', 'chines', 'chip', 'choic', 'choke', 'choos', 'chop', 'choppi', 'chord', 'chore', 'choreograph', 'choreographi', 'chri', 'christian', 'christma', 'christmastim', 'christoph', 'chuck', 'chuckl', 'chunk', 'church', 'churchgoer', 'churn', 'cigarett', 'cimarron', 'cinema', 'cinemat', 'cinematographi', 'circu', 'circumst', 'citi', 'citizen', 'civic', 'civil', 'ck', 'claim', 'clan', 'clandestin', 'clapton', 'clash', 'class', 'classi', 'classic', 'classifi', 'clay', 'clear', 'clearli', 'cleavag', 'clerk', 'clever', 'cleverli', 'clichã', 'click', 'client', 'cliff', 'climact', 'climat', 'climax', 'clip', 'clockwork', 'clone', 'clooney', 'clori', 'close', 'closer', 'cloth', 'cloud', 'clouseau', 'clown', 'club', 'clue', 'clueless', 'clumsi', 'clunki', 'co', 'coat', 'cockroach', 'codpiec', 'coffe', 'cohen', 'coin', 'coincid', 'coital', 'cola', 'cold', 'cole', 'collaps', 'colleagu', 'collect', 'collector', 'colleg', 'collegi', 'colombo', 'color', 'columbo', 'com', 'coma', 'combin', 'come', 'comed', 'comedi', 'comedian', 'comer', 'comfort', 'comic', 'commend', 'comment', 'commentari', 'commerci', 'commiss', 'commit', 'committ', 'commodu', 'common', 'commun', 'communist', 'communistophobia', 'comon', 'compani', 'compar', 'compatriot', 'compel', 'compens', 'compet', 'complac', 'complain', 'complet', 'complex', 'compliment', 'complimentari', 'compos', 'composit', 'comprehens', 'compris', 'compromis', 'comput', 'computeri', 'con', 'conceit', 'conceiv', 'concentr', 'concept', 'concern', 'concert', 'conclud', 'conclus', 'concubin', 'condemn', 'condit', 'conductor', 'confeder', 'confess', 'confid', 'confin', 'conflict', 'confront', 'confus', 'congenit', 'congo', 'connect', 'connor', 'conrad', 'conscienc', 'consciou', 'conscious', 'consecut', 'consensu', 'consequ', 'consid', 'consist', 'consol', 'conspiraci', 'constant', 'constantli', 'constitut', 'constraint', 'construct', 'consum', 'contain', 'contemporari', 'content', 'context', 'continu', 'continuum', 'contrari', 'contrast', 'contrit', 'contriv', 'control', 'controversi', 'conveni', 'convent', 'convers', 'convey', 'convict', 'convinc', 'convincingli', 'cook', 'cool', 'cooley', 'cop', 'cope', 'copi', 'copper', 'cordel', 'corleon', 'corman', 'corn', 'corni', 'corpor', 'correct', 'correl', 'correspond', 'corridor', 'corrupt', 'cosmologist', 'cost', 'costum', 'cotton', 'couch', 'couco', 'could', 'coulda', 'counselor', 'count', 'counterpart', 'countlessli', 'countri', 'countrysid', 'coupl', 'courag', 'cours', 'court', 'cousin', 'cover', 'coward', 'cowardli', 'cox', 'crack', 'craft', 'craig', 'crank', 'cranki', 'crap', 'crappi', 'crash', 'crasher', 'crawford', 'crawl', 'crayon', 'craze', 'crazi', 'creak', 'cream', 'creat', 'creation', 'creativ', 'creator', 'creatur', 'credibl', 'credit', 'creep', 'creepi', 'creepier', 'cretin', 'cri', 'crime', 'crimin', 'cring', 'crippl', 'cristiana', 'cristina', 'critic', 'critter', 'croc', 'cronenberg', 'crook', 'cross', 'crow', 'crowd', 'cruel', 'cruelti', 'cruis', 'crumbl', 'crunch', 'crush', 'crux', 'crystal', 'cuckoo', 'cuddl', 'culmin', 'cult', 'cultur', 'cup', 'cure', 'curios', 'curious', 'curs', 'cursor', 'cursori', 'curti', 'cusack', 'cusp', 'custom', 'cut', 'cute', 'cutesi', 'cyborg', 'cynic', 'czech', 'dad', 'daddi', 'daili', 'daisi', 'dalmar', 'damag', 'damn', 'damsel', 'dan', 'danc', 'dancer', 'danger', 'danner', 'danni', 'danson', 'dare', 'daria', 'dario', 'dark', 'darken', 'darker', 'darl', 'darn', 'dash', 'data', 'date', 'daughter', 'dave', 'davi', 'david', 'dawn', 'day', 'daytim', 'daze', 'dazzi', 'dazzl', 'de', 'dead', 'deadli', 'deaf', 'deafâ', 'deal', 'dealer', 'dealt', 'deamon', 'deanna', 'dear', 'dearth', 'death', 'deathb', 'debacl', 'debas', 'debbi', 'debt', 'debut', 'decad', 'decenc', 'decent', 'decid', 'decidedli', 'deciph', 'decis', 'deck', 'declar', 'declin', 'decompos', 'decor', 'decrepit', 'dedic', 'deep', 'deezen', 'defeat', 'defend', 'defens', 'defic', 'definit', 'deform', 'degener', 'degre', 'deliber', 'delicaci', 'delicatessen', 'delight', 'deliv', 'deliveri', 'delta', 'delud', 'delv', 'demand', 'demi', 'demolish', 'demon', 'demonstr', 'denni', 'denouement', 'dens', 'dent', 'denzel', 'depart', 'depend', 'depict', 'deplor', 'deprec', 'depress', 'depth', 'descent', 'describ', 'desert', 'deserv', 'design', 'desir', 'desk', 'desper', 'despis', 'despit', 'destroy', 'destruct', 'detail', 'detect', 'deter', 'determin', 'detest', 'detract', 'devast', 'develop', 'devgan', 'devic', 'devito', 'devo', 'devoid', 'devot', 'devour', 'dez', 'di', 'diabet', 'diabol', 'dial', 'dialect', 'dialog', 'dialogu', 'diamond', 'dian', 'diana', 'diann', 'dicamillo', 'dicaprio', 'dick', 'didact', 'die', 'diet', 'dietrich', 'differ', 'difficult', 'difficulti', 'dig', 'digger', 'digit', 'digniti', 'dillon', 'dim', 'dimens', 'dimension', 'dine', 'diner', 'dinner', 'dinosaur', 'dippi', 'dire', 'direct', 'director', 'directori', 'dirt', 'dirti', 'disagre', 'disappear', 'disappoint', 'disarm', 'disast', 'disastr', 'disbelief', 'disco', 'disconnect', 'discount', 'discov', 'discoveri', 'disguis', 'disgust', 'disinclin', 'disjoint', 'dislik', 'disloc', 'dismal', 'dismay', 'disney', 'dispar', 'dispel', 'display', 'displeasur', 'dispos', 'distant', 'distinct', 'distinctli', 'distinguish', 'distract', 'distraught', 'distress', 'distribut', 'district', 'disturb', 'disturbingli', 'ditch', 'divers', 'divid', 'divorc', 'dna', 'doc', 'docid', 'doctor', 'documentari', 'dog', 'doggi', 'dolbi', 'dollar', 'domest', 'domin', 'donal', 'donald', 'donat', 'done', 'donna', 'donut', 'doofu', 'doom', 'door', 'dork', 'dorothi', 'dose', 'doubl', 'doubt', 'douch', 'dougla', 'downey', 'downhil', 'downright', 'dozen', 'dr', 'drag', 'dragon', 'drain', 'drama', 'dramat', 'draw', 'drawback', 'drawn', 'dread', 'dream', 'dreamwork', 'dreari', 'dreck', 'dress', 'drew', 'dri', 'dribbl', 'drill', 'drink', 'drive', 'drivel', 'driver', 'drone', 'drool', 'drop', 'drought', 'drove', 'drown', 'drowsi', 'drug', 'druggi', 'drum', 'drummer', 'drunk', 'drunken', 'dt', 'dub', 'dubiou', 'dublin', 'duck', 'duct', 'dudikoff', 'due', 'dull', 'dumb', 'dummi', 'dump', 'dungeon', 'dunham', 'dunlop', 'dunno', 'durat', 'durbin', 'dutch', 'duti', 'duwayn', 'dvd', 'dwarf', 'dwell', 'dx', 'dyke', 'eager', 'eagerli', 'eagl', 'ear', 'eardrum', 'earli', 'earlier', 'earliest', 'earmark', 'earn', 'earnest', 'earth', 'easi', 'easili', 'east', 'easter', 'eastern', 'eat', 'ebay', 'eccentr', 'echo', 'economi', 'ed', 'eddi', 'edg', 'edgi', 'edison', 'edit', 'edmund', 'educ', 'edward', 'eeri', 'effect', 'effort', 'eg', 'egg', 'ego', 'egyptian', 'eh', 'eight', 'eighti', 'either', 'elaps', 'elder', 'elderli', 'electr', 'electrocut', 'electrod', 'electron', 'eleg', 'element', 'elija', 'elimin', 'elixir', 'ell', 'ellen', 'els', 'elsewher', 'elw', 'em', 'email', 'emanuel', 'embarrass', 'embarrassingli', 'embed', 'embodi', 'embrac', 'emerg', 'emi', 'emili', 'emin', 'emmanuel', 'emmi', 'emo', 'emot', 'empathi', 'emperor', 'emphas', 'employ', 'empti', 'emul', 'en', 'enabl', 'encapsul', 'enchant', 'encount', 'encourag', 'end', 'endeavour', 'endless', 'endlessli', 'endur', 'enemi', 'energi', 'engag', 'england', 'english', 'englishwoman', 'engross', 'enigma', 'enjoy', 'enlighten', 'enough', 'ensembl', 'ensur', 'enter', 'entertain', 'enthral', 'enthusiasm', 'enthusiast', 'entic', 'entir', 'entranc', 'enumer', 'envi', 'environ', 'envis', 'epic', 'episod', 'epitom', 'eq', 'equal', 'equip', 'equival', 'era', 'eric', 'erna', 'ernesto', 'ernst', 'erot', 'error', 'errr', 'escap', 'escapad', 'especi', 'espionag', 'essenc', 'essenti', 'establish', 'estrang', 'etc', 'etcetera', 'eugen', 'europ', 'europa', 'european', 'eva', 'evan', 'evangelist', 'even', 'event', 'eventu', 'ever', 'everi', 'everybodi', 'everyon', 'everyth', 'everywher', 'evid', 'evil', 'evoc', 'evok', 'evolv', 'ex', 'exact', 'exactli', 'exagger', 'exampl', 'excel', 'except', 'excerpt', 'exchang', 'excit', 'excitedli', 'excruci', 'excus', 'execut', 'exist', 'exit', 'expand', 'expect', 'expens', 'experi', 'expert', 'expertis', 'explain', 'explan', 'explicit', 'exploit', 'explor', 'explos', 'expos', 'exposit', 'express', 'exquisit', 'extent', 'extra', 'extrem', 'eye', 'face', 'facial', 'facil', 'fact', 'factor', 'factori', 'factual', 'fade', 'fail', 'faint', 'fair', 'fairi', 'fairli', 'fairytal', 'faith', 'fake', 'falk', 'fall', 'fallaci', 'fallen', 'fals', 'faludi', 'fame', 'famili', 'familiar', 'famou', 'fan', 'fanci', 'fanni', 'fantasi', 'fantast', 'far', 'farcic', 'fare', 'farewel', 'farley', 'farm', 'farmer', 'farrel', 'farrow', 'farther', 'fascin', 'fashion', 'faso', 'fast', 'fatal', 'father', 'fathom', 'fatten', 'fault', 'favor', 'favorit', 'favourit', 'fear', 'feast', 'featur', 'fed', 'feder', 'feedback', 'feel', 'feet', 'fell', 'fellow', 'felt', 'femal', 'feminin', 'femm', 'fend', 'feroci', 'ferrel', 'ferrigno', 'fest', 'fewer', 'fez', 'fi', 'fiancã', 'fiasco', 'fiber', 'fiction', 'field', 'fiend', 'fierc', 'fifteen', 'fifti', 'fight', 'figur', 'fill', 'filler', 'film', 'filmabl', 'filmmak', 'filth', 'final', 'financ', 'financi', 'find', 'fine', 'finest', 'finger', 'fingernail', 'fingersmith', 'finish', 'fire', 'firebal', 'firmli', 'first', 'fish', 'fist', 'fistfight', 'fit', 'fitzgerald', 'five', 'flash', 'flashback', 'flashi', 'flat', 'flavor', 'flaw', 'flawless', 'fled', 'flee', 'fleet', 'flesh', 'fletcher', 'flew', 'fli', 'flick', 'flight', 'flimsi', 'flip', 'flirtati', 'flockofduck', 'flood', 'flop', 'flow', 'flu', 'fluff', 'fluffbal', 'flush', 'focu', 'fodder', 'fold', 'folk', 'follow', 'fond', 'fool', 'foot', 'footag', 'footbal', 'forbid', 'forc', 'ford', 'forebod', 'forehead', 'foreign', 'foremost', 'forest', 'forethought', 'forev', 'forget', 'forgett', 'forgiv', 'forgiven', 'forgo', 'forgot', 'forgotten', 'fork', 'form', 'formal', 'format', 'former', 'forse', 'forster', 'forth', 'forti', 'fortun', 'forward', 'foster', 'fought', 'found', 'four', 'fourth', 'fox', 'fragmentari', 'frame', 'franc', 'francisco', 'franco', 'frank', 'frankenstein', 'frankli', 'franklin', 'frantic', 'frat', 'fraught', 'freak', 'freddi', 'freder', 'free', 'freedom', 'freez', 'french', 'frenchman', 'frequenc', 'frequent', 'fresh', 'freudian', 'friction', 'friend', 'friendli', 'friendship', 'frighten', 'fring', 'frizzi', 'front', 'frost', 'froth', 'frozen', 'frustrat', 'frustratingli', 'fu', 'fuel', 'full', 'fulli', 'fumbl', 'fun', 'fund', 'funki', 'funni', 'funnier', 'funniest', 'fur', 'furiou', 'furnish', 'furri', 'furst', 'furthermor', 'fuse', 'fuss', 'futil', 'futur', 'fuzzi', 'fx', 'ga', 'gabl', 'gag', 'gain', 'gallagh', 'galleri', 'galloni', 'gambl', 'gambler', 'game', 'gander', 'gang', 'gangren', 'garbag', 'garden', 'garland', 'garner', 'gave', 'gay', 'gazarra', 'gear', 'geek', 'geeki', 'geena', 'gem', 'gena', 'gener', 'geniu', 'genr', 'gentil', 'gentl', 'gentleman', 'gentli', 'genui', 'genuin', 'geograph', 'georg', 'georgina', 'gere', 'germ', 'german', 'gerrard', 'get', 'getaway', 'gft', 'ghetto', 'ghost', 'giallo', 'giant', 'gibberish', 'gift', 'gigant', 'giggl', 'gimli', 'gimm', 'gin', 'gina', 'ginger', 'girl', 'girlfriend', 'girli', 'girlishli', 'gist', 'give', 'giveaway', 'given', 'gizmo', 'glad', 'gladiat', 'gladli', 'glamor', 'glass', 'glenn', 'glider', 'glimmer', 'glimps', 'glitch', 'gloat', 'globe', 'gloria', 'glorifi', 'gloriou', 'gloss', 'glove', 'glow', 'glue', 'gnome', 'go', 'goal', 'goblin', 'god', 'godard', 'godath', 'godzilla', 'goe', 'goer', 'gojo', 'gold', 'golden', 'goldthwait', 'goldwyn', 'gone', 'goner', 'gonna', 'good', 'goodi', 'goodman', 'gooey', 'goofbal', 'goofi', 'googl', 'gook', 'gordon', 'gore', 'gorgeou', 'gori', 'gorilla', 'gorshin', 'got', 'gotham', 'gothic', 'gotta', 'gotten', 'gough', 'govern', 'grab', 'grace', 'grade', 'graham', 'grain', 'grampa', 'grand', 'granddaught', 'grandfath', 'grandios', 'grandpa', 'granger', 'grant', 'graphic', 'grate', 'grave', 'graveyard', 'graviti', 'gray', 'grayish', 'great', 'greater', 'greatest', 'greatli', 'greed', 'greedi', 'green', 'greist', 'grew', 'grey', 'grieco', 'grimac', 'grindingli', 'grip', 'gripe', 'grit', 'grittiest', 'gromit', 'ground', 'groundhog', 'group', 'grow', 'grown', 'gruel', 'gruesom', 'grumpi', 'guarante', 'guard', 'guell', 'guess', 'guest', 'guid', 'guignol', 'guitar', 'gulliv', 'gulpilil', 'gun', 'gunfight', 'gunman', 'guru', 'gut', 'guy', 'gwenyth', 'gypsi', 'gã', 'hack', 'hahahahaha', 'hail', 'hain', 'hair', 'hairbal', 'hairi', 'hairstyl', 'hale', 'half', 'hallmark', 'halloween', 'hallucin', 'hallucinatori', 'hallway', 'halmi', 'halt', 'ham', 'hamlet', 'hampton', 'han', 'hand', 'handl', 'handsom', 'handyman', 'hang', 'hank', 'hansen', 'hanson', 'happen', 'happi', 'happier', 'happili', 'harbor', 'hard', 'hardi', 'hardli', 'hardwar', 'harm', 'harmless', 'harold', 'harpi', 'harri', 'harrington', 'harrow', 'harsh', 'hart', 'harvest', 'harvey', 'hasten', 'hastili', 'hat', 'hate', 'hatr', 'haunt', 'havoc', 'hay', 'hayn', 'hbo', 'head', 'headach', 'headstrong', 'health', 'healthi', 'hear', 'heard', 'heart', 'heartbreak', 'heartedli', 'heather', 'heaven', 'heavili', 'heck', 'height', 'heighten', 'heir', 'heist', 'helen', 'hell', 'hello', 'helmet', 'help', 'henc', 'henchmen', 'henri', 'hepburn', 'her', 'hercul', 'hero', 'heroic', 'heroin', 'hesit', 'hey', 'hg', 'hi', 'hick', 'hidden', 'hide', 'high', 'higher', 'highli', 'highlight', 'highsmith', 'highway', 'hilari', 'hill', 'hillybilli', 'hilton', 'himalaya', 'himalayan', 'hingl', 'hint', 'hip', 'hippi', 'hire', 'histor', 'histori', 'hit', 'hitch', 'hitchcock', 'hitchhik', 'hitler', 'hl', 'hmmm', 'ho', 'hobgoblin', 'hockey', 'hodgepodg', 'hoffman', 'hold', 'hole', 'holi', 'holiday', 'holland', 'hollist', 'hollywood', 'hollywoodish', 'holt', 'homag', 'home', 'homeless', 'homeward', 'homework', 'homoerot', 'homosexu', 'homunculi', 'honest', 'honesti', 'honestli', 'honeymoon', 'hong', 'honk', 'honor', 'honour', 'hood', 'hook', 'hookup', 'hooligan', 'hoot', 'hop', 'hope', 'hopeless', 'hopelessli', 'horner', 'horrend', 'horribl', 'horrid', 'horrifi', 'horrifyingli', 'horror', 'horrormovi', 'hors', 'hospit', 'host', 'hostag', 'hot', 'hotel', 'hour', 'hous', 'housew', 'housewif', 'howev', 'howler', 'hsiao', 'http', 'hudson', 'huge', 'hugh', 'hui', 'huldr', 'hulk', 'hum', 'human', 'humbl', 'hummi', 'humor', 'humourless', 'hundr', 'hundstag', 'hungri', 'hunh', 'hunt', 'hurl', 'hurt', 'hurtl', 'husband', 'hustler', 'huston', 'hyde', 'hype', 'hyper', 'hypnot', 'hyster', 'hysteria', 'iamaseal2', 'ian', 'ice', 'icon', 'id', 'idaho', 'idea', 'ideal', 'identifi', 'ideolog', 'idiot', 'idyl', 'ignor', 'igor', 'ii', 'iii', 'iijima', 'il', 'ill', 'illeg', 'illicit', 'im', 'imag', 'imagin', 'imdb', 'imho', 'immateri', 'immatur', 'immedi', 'immediaci', 'immens', 'immers', 'immigr', 'immun', 'impact', 'impedi', 'impend', 'imperfect', 'implaus', 'impli', 'implor', 'import', 'imposs', 'impress', 'imprison', 'improv', 'improvis', 'impuls', 'in', 'inabl', 'inaccur', 'inan', 'inappropri', 'inattent', 'inbetween', 'inbr', 'incap', 'incauto', 'incept', 'incest', 'inch', 'incid', 'incit', 'inclin', 'includ', 'inclus', 'incoher', 'incomprehens', 'inconsequenti', 'inconsist', 'incorpor', 'increas', 'increasingli', 'incred', 'inde', 'independ', 'indescrib', 'indi', 'indiana', 'indic', 'indict', 'indign', 'indiscrimin', 'individu', 'induc', 'indulg', 'industri', 'inept', 'inevit', 'inexcus', 'infam', 'infantil', 'influenc', 'inform', 'infract', 'ingmar', 'inhabit', 'inherit', 'inhuman', 'initi', 'injustic', 'inner', 'innoc', 'innumer', 'input', 'insan', 'insect', 'insensit', 'insert', 'insid', 'insight', 'insignific', 'insipid', 'insipidli', 'insist', 'inspector', 'inspir', 'instal', 'instanc', 'instantli', 'instead', 'institution', 'instrument', 'insult', 'integr', 'intellect', 'intellectu', 'intellig', 'intend', 'intens', 'intent', 'interact', 'interchang', 'interest', 'interestingli', 'interior', 'interlud', 'intern', 'internet', 'interrupt', 'intertitl', 'intertwin', 'intimid', 'intoler', 'intrigu', 'intro', 'introduc', 'introduct', 'intrud', 'inund', 'invad', 'invari', 'invent', 'investig', 'invinc', 'invis', 'involv', 'iranian', 'ireland', 'iron', 'ironsid', 'irrat', 'irrit', 'irv', 'ish', 'island', 'isol', 'israel', 'issu', 'itali', 'italian', 'itud', 'ivanna', 'ivi', 'jabber', 'jack', 'jacki', 'jackson', 'jade', 'jafri', 'jail', 'jame', 'jami', 'jane', 'jano', 'japan', 'japanes', 'jason', 'jaw', 'jayn', 'jazz', 'jazzi', 'jealou', 'jean', 'jeann', 'jeannet', 'jeez', 'jeff', 'jerk', 'jewel', 'jewelri', 'jinx', 'jm', 'joan', 'joaquin', 'job', 'jock', 'johanna', 'johansson', 'john', 'johnni', 'join', 'joke', 'joker', 'joli', 'jon', 'jone', 'jordan', 'joseph', 'josã', 'journey', 'jowli', 'joy', 'joyc', 'joyless', 'jr', 'judg', 'judgment', 'judi', 'judith', 'judson', 'julia', 'julian', 'juliet', 'jumbo', 'jump', 'junki', 'justic', 'justif', 'justifi', 'justin', 'juvenil', 'kabuki', 'kaley', 'kanakared', 'kara', 'karel', 'karl', 'kart', 'kate', 'kay', 'keanu', 'keaton', 'keef', 'keep', 'keeper', 'keitel', 'keith', 'kelli', 'kelso', 'ken', 'kenneth', 'kept', 'kerr', 'kevin', 'key', 'keyboard', 'kick', 'kickbox', 'kid', 'kidman', 'kill', 'killer', 'kim', 'kind', 'kinda', 'king', 'kint', 'kirov', 'kiss', 'kitano', 'kitch', 'kitchen', 'kitten', 'kleenex', 'kline', 'knew', 'knife', 'knight', 'knock', 'know', 'knowledg', 'known', 'kobold', 'kogan', 'kong', 'kooki', 'korean', 'koster', 'kramer', 'kubrick', 'kudo', 'kung', 'kuroda', 'kwan', 'kwouk', 'kyle', 'la', 'lab', 'labor', 'lack', 'lacki', 'lacklust', 'ladi', 'lai', 'lake', 'lame', 'lamest', 'lampoon', 'lan', 'land', 'landmark', 'landscap', 'lane', 'langdon', 'languag', 'larg', 'larri', 'last', 'late', 'later', 'latest', 'lathan', 'latter', 'laud', 'laugh', 'laughabl', 'laughter', 'launch', 'laura', 'laurel', 'lauren', 'lavish', 'law', 'lawyer', 'lay', 'layer', 'layout', 'lazi', 'le', 'lea', 'leachman', 'lead', 'leader', 'learn', 'least', 'leather', 'leav', 'led', 'lee', 'left', 'leftov', 'leg', 'legal', 'legalist', 'legend', 'legendari', 'legitim', 'leiji', 'lend', 'length', 'leonardo', 'leprechaun', 'lesbian', 'lesli', 'less', 'lesser', 'lesson', 'lester', 'let', 'letdown', 'letter', 'level', 'levinson', 'lewbowski', 'lewi', 'liang', 'licens', 'lie', 'life', 'lifetim', 'lift', 'light', 'lighter', 'lightli', 'lightn', 'lightsab', 'like', 'likewis', 'lili', 'limb', 'limit', 'limp', 'line', 'liner', 'link', 'lionel', 'lip', 'liquid', 'lisa', 'list', 'listen', 'lit', 'liter', 'littl', 'liu', 'liv', 'live', 'loach', 'load', 'loafer', 'local', 'locat', 'lock', 'locker', 'logic', 'loi', 'london', 'lone', 'loneli', 'long', 'longest', 'longoria', 'look', 'looni', 'loooong', 'loos', 'lord', 'lose', 'loser', 'loss', 'lost', 'lot', 'lotteri', 'lou', 'loud', 'loui', 'louis', 'lousi', 'lovabl', 'love', 'loveli', 'lover', 'low', 'lower', 'lowest', 'loy', 'loyal', 'lubitsch', 'luca', 'luci', 'lucian', 'lucil', 'luck', 'lucki', 'luckiest', 'ludicr', 'lui', 'luis', 'lump', 'lumumba', 'lunat', 'lung', 'lunk', 'luppi', 'lush', 'lust', 'lynch', 'lyon', 'lyudmila', 'mabel', 'macbeth', 'macdonald', 'macek', 'machin', 'macho', 'macnicol', 'macross', 'mad', 'maddi', 'maddin', 'made', 'madman', 'madonna', 'madrid', 'mafia', 'magazin', 'magic', 'magnet', 'magnific', 'magnitud', 'magnolia', 'magoo', 'maiden', 'mail', 'main', 'mainli', 'maintain', 'major', 'majorli', 'make', 'maker', 'makeup', 'malcolm', 'malden', 'male', 'malick', 'malkovich', 'mall', 'maltin', 'mama', 'mamet', 'man', 'manag', 'manchu', 'mancuso', 'mandatori', 'manhattan', 'mani', 'maniac', 'manica', 'manim', 'manipul', 'manli', 'mann', 'manna', 'manner', 'manual', 'manuscript', 'map', 'mar', 'margin', 'mari', 'marin', 'mario', 'marion', 'mark', 'market', 'marlen', 'marlow', 'marri', 'marriag', 'marseil', 'marsha', 'marshal', 'marsillach', 'martha', 'martial', 'martin', 'marvel', 'masculin', 'mash', 'masillach', 'mask', 'masquerad', 'mass', 'master', 'masteri', 'mastermind', 'masterpiec', 'mat', 'match', 'mate', 'materi', 'matrix', 'matronli', 'matsumoto', 'matt', 'matter', 'matthew', 'matur', 'maud', 'maven', 'max', 'maxim', 'may', 'mayb', 'mayer', 'mayhem', 'mc', 'mcbeak', 'mccann', 'mcconaughey', 'mcdowel', 'mcgee', 'mchmaon', 'mcquack', 'mean', 'meander', 'meaning', 'meaningless', 'meant', 'meantim', 'meanwhil', 'measur', 'meat', 'mecha', 'meckern', 'media', 'medic', 'medicin', 'mediocr', 'medley', 'meecham', 'meela', 'meet', 'megan', 'mel', 'melina', 'melodrama', 'melt', 'member', 'memor', 'memori', 'men', 'menac', 'mencia', 'mental', 'mention', 'merced', 'merci', 'mercilessli', 'mere', 'merino', 'merri', 'mesh', 'mesmer', 'mesmeris', 'mess', 'messag', 'metaphor', 'metaphys', 'method', 'mexican', 'mexico', 'mgm', 'mia', 'michael', 'micheal', 'michel', 'mick', 'mid', 'middl', 'midget', 'midnight', 'midway', 'midwestern', 'might', 'mighti', 'miguel', 'mike', 'mikey', 'mild', 'mildli', 'mile', 'mileston', 'milf', 'milit', 'militari', 'milk', 'mill', 'milland', 'miller', 'million', 'mind', 'mindless', 'mindset', 'minimalist', 'minni', 'minor', 'minut', 'mirror', 'misappli', 'misbegotten', 'miscalcul', 'miscast', 'mischa', 'miscreant', 'misdirect', 'miser', 'misfit', 'misguid', 'mish', 'misinterpret', 'misl', 'miss', 'missionari', 'mistak', 'mistaken', 'mistress', 'mitch', 'mix', 'moan', 'mobutu', 'mode', 'model', 'moder', 'modern', 'modest', 'modul', 'molli', 'mom', 'moment', 'momentum', 'mommi', 'monett', 'money', 'monk', 'monkey', 'monologu', 'monster', 'monstrou', 'montag', 'month', 'monti', 'monument', 'mood', 'moon', 'moonlight', 'moor', 'moorehead', 'moral', 'moreau', 'moreov', 'morgan', 'morn', 'moron', 'moros', 'morph', 'morphin', 'mors', 'moskowitz', 'mospeada', 'moss', 'mostli', 'mother', 'motherhood', 'motion', 'motiv', 'motor', 'motown', 'mountain', 'mous', 'moustach', 'mouth', 'move', 'movement', 'movi', 'moyer', 'moynahan', 'mr', 'ms', 'mst3k', 'mt', 'much', 'muddl', 'mugger', 'muita', 'muito', 'mulder', 'mulkurul', 'multi', 'multipl', 'mumbo', 'muni', 'muppet', 'murder', 'murphi', 'museum', 'music', 'musician', 'muslim', 'must', 'mustard', 'musti', 'mutant', 'mutat', 'mute', 'mutil', 'myrna', 'mysteri', 'myth', 'mytholog', 'nadir', 'nail', 'naiv', 'nake', 'name', 'nan', 'nanci', 'nandjiwarra', 'narr', 'narrat', 'narrowli', 'nasal', 'nascar', 'nasti', 'nation', 'nationalist', 'nativ', 'natur', 'naturalist', 'naughton', 'nausea', 'nauseat', 'nazi', 'nazism', 'nbc', 'nc', 'neanderth', 'near', 'nearbi', 'nearli', 'nearsight', 'neat', 'necessari', 'necessarili', 'neck', 'need', 'neg', 'neighbor', 'neighborhood', 'neither', 'nella', 'nelson', 'nemesi', 'neo', 'neon', 'nerd', 'nerdi', 'nerv', 'nervou', 'net', 'network', 'netzero', 'never', 'new', 'newcom', 'next', 'nfb', 'nice', 'nichol', 'nicholson', 'nick', 'nickelodean', 'nickelodeon', 'nicol', 'nicolodi', 'nielsen', 'nielson', 'night', 'nightclub', 'nightmar', 'nightmarish', 'nihil', 'nilbog', 'nine', 'ninth', 'niro', 'nitpick', 'nobl', 'nobodi', 'nod', 'noir', 'nois', 'nomin', 'non', 'none', 'nonetheless', 'nonsens', 'nonstop', 'noon', 'norma', 'normal', 'norman', 'north', 'northern', 'norton', 'norwegian', 'nostalg', 'nostalgia', 'notabl', 'notch', 'note', 'noth', 'notic', 'notori', 'novel', 'novella', 'novic', 'nowaday', 'nowher', 'nuclear', 'nude', 'nudg', 'nudi', 'nuditi', 'null', 'numb', 'number', 'numer', 'nun', 'nurs', 'nutcas', 'nutti', 'nymph', 'object', 'oblig', 'obscen', 'obscur', 'observ', 'obsess', 'obstacl', 'obtain', 'obtrus', 'obviou', 'obvious', 'occas', 'occasion', 'occur', 'occurr', 'ocean', 'odd', 'off', 'offbeat', 'offend', 'offens', 'offer', 'offic', 'oft', 'often', 'oh', 'ok', 'okay', 'ol', 'old', 'oldboy', 'older', 'oldest', 'olga', 'oliv', 'omen', 'one', 'oneself', 'onlin', 'onto', 'ooh', 'oop', 'ooz', 'open', 'oper', 'opera', 'operat', 'operetta', 'opinion', 'oppon', 'opportun', 'oppurun', 'opt', 'option', 'orang', 'orchestr', 'order', 'orderli', 'ordinari', 'organ', 'origin', 'ork', 'orphan', 'orwel', 'oscar', 'other', 'otherwis', 'ottenbreit2', 'ouch', 'outburst', 'outcom', 'outer', 'outfit', 'outlook', 'output', 'outrag', 'outsid', 'outskirt', 'outstand', 'overact', 'overal', 'overbear', 'overcom', 'overdon', 'overli', 'overlong', 'overnight', 'overplay', 'overr', 'overreact', 'overrul', 'overweight', 'overwhelm', 'ow', 'owen', 'own', 'oz', 'pace', 'pacino', 'pack', 'packag', 'packet', 'pad', 'page', 'paid', 'pain', 'paint', 'pair', 'pale', 'paleontologist', 'paltrow', 'pan', 'pang', 'panic', 'panorama', 'pansi', 'panther', 'paper', 'paquin', 'par', 'parallel', 'paramount', 'parc', 'pardner', 'parent', 'pari', 'parishion', 'park', 'parker', 'parochi', 'parodi', 'parrish', 'part', 'parti', 'particular', 'particularli', 'partli', 'partner', 'pass', 'passabl', 'passag', 'passion', 'passiv', 'past', 'pastich', 'pastor', 'pat', 'pataki', 'patch', 'patchwork', 'path', 'pathet', 'patient', 'patric', 'patricia', 'patriot', 'pattern', 'patti', 'patton', 'paul', 'pauli', 'pawn', 'pay', 'payback', 'payoff', 'pc', 'peac', 'peak', 'pearl', 'pebbl', 'peck', 'peculiar', 'pedal', 'pedestrian', 'peebl', 'peke', 'pen', 'penchant', 'penguin', 'penitentiari', 'penni', 'pennsylvania', 'pension', 'peopl', 'pepoir', 'pepper', 'per', 'perfect', 'perfectli', 'perform', 'perhap', 'peril', 'period', 'peripher', 'perk', 'perki', 'perkin', 'peroxid', 'perpetr', 'persev', 'person', 'persona', 'personnel', 'peski', 'pester', 'pesto', 'pet', 'peter', 'petrifi', 'petti', 'pew', 'peyton', 'pf', 'pfeiffer', 'phenomenon', 'phht', 'phillip', 'philosoph', 'philosophis', 'phoenix', 'phone', 'phoney', 'phoni', 'photograph', 'photographi', 'physic', 'physician', 'pianist', 'pic', 'pick', 'pictur', 'piec', 'pierc', 'pierr', 'pig', 'pill', 'pilot', 'pink', 'pinku', 'pintili', 'pipe', 'piper', 'pirat', 'pit', 'piti', 'pitt', 'place', 'plagiar', 'plagu', 'plain', 'plainli', 'plan', 'plane', 'planet', 'plank', 'plant', 'plastic', 'plate', 'play', 'playboy', 'player', 'playmat', 'pleas', 'pleasant', 'pleasantli', 'pleasur', 'plenti', 'plod', 'plonk', 'plot', 'plu', 'plum', 'plusth', 'pm', 'poetri', 'pogo', 'poignant', 'point', 'pointless', 'poison', 'polic', 'polish', 'polit', 'polli', 'pollin', 'pollut', 'ponder', 'pontif', 'pool', 'poop', 'poor', 'poorli', 'pop', 'popular', 'porcupin', 'porn', 'porretta', 'porter', 'portion', 'portray', 'posey', 'posit', 'possibl', 'post', 'potato', 'potboil', 'potenti', 'pou', 'poverti', 'power', 'ppl', 'practic', 'prais', 'praiseworthi', 'pranci', 'pre', 'preach', 'preachi', 'precari', 'preciou', 'precursor', 'predict', 'prefer', 'pregnant', 'prejudic', 'premis', 'premonit', 'prepar', 'presenc', 'present', 'presid', 'pressur', 'prestigi', 'presum', 'pretend', 'pretens', 'pretenti', 'pretext', 'pretti', 'prettili', 'prevent', 'previou', 'previous', 'price', 'primari', 'prime', 'princip', 'principl', 'print', 'prior', 'prison', 'privat', 'privileg', 'prize', 'pro', 'probabl', 'problem', 'proce', 'proceed', 'process', 'proclaim', 'produc', 'product', 'profession', 'professor', 'profil', 'profit', 'profound', 'profoundli', 'profster', 'program', 'programm', 'project', 'prolo', 'prologu', 'prolong', 'prom', 'promin', 'promis', 'promiscu', 'promot', 'prompt', 'pronounc', 'proof', 'propagand', 'propaganda', 'proper', 'properli', 'properti', 'prophet', 'proport', 'prot', 'protagonist', 'protect', 'protest', 'protã', 'proud', 'prove', 'provid', 'provoc', 'provok', 'ps', 'pseudo', 'psychiatr', 'psychiatrist', 'psychic', 'psycho', 'psycholog', 'psychologist', 'psychopath', 'psychot', 'public', 'pud', 'pudgi', 'puke', 'pull', 'pulp', 'punch', 'punctuat', 'puppet', 'purchas', 'pure', 'purpos', 'purr', 'purs', 'pursu', 'push', 'pushi', 'put', 'puzzl', 'python', 'qualiti', 'quarter', 'que', 'queen', 'quentin', 'quest', 'question', 'quick', 'quicki', 'quickli', 'quiet', 'quilt', 'quiney', 'quinn', 'quirki', 'quit', 'qun', 'quot', 'raab', 'rabbit', 'rabi', 'rabid', 'race', 'rachel', 'racial', 'racket', 'radio', 'raimi', 'rain', 'rainbow', 'rainer', 'rais', 'raiser', 'rakowski', 'raksha', 'rambl', 'rambuncti', 'ramshackl', 'ran', 'ranch', 'rancher', 'rang', 'ranger', 'rank', 'rap', 'rape', 'rapist', 'rapport', 'rare', 'rarefi', 'rat', 'rate', 'rather', 'ratman', 'rattl', 'rave', 'raw', 'ray', 'raymond', 'razor', 'razzl', 'reach', 'reaction', 'read', 'reader', 'readi', 'real', 'realis', 'realism', 'realist', 'realiti', 'realiz', 'realli', 'reason', 'reb', 'reba', 'rebecca', 'rebelli', 'rebuild', 'recal', 'receiv', 'recent', 'recess', 'reckless', 'reckon', 'recogn', 'recognis', 'recognit', 'recommend', 'record', 'recount', 'recreat', 'recruit', 'recycl', 'red', 'redeem', 'redempt', 'redhead', 'redlin', 'redneck', 'redub', 'redund', 'ree', 'rees', 'refer', 'refin', 'reflect', 'refrain', 'refresh', 'refug', 'refus', 'region', 'regist', 'regret', 'regular', 'rehabilit', 'rehears', 'reilli', 'reinforc', 'reiser', 'reject', 'rel', 'relat', 'relationship', 'releas', 'relentless', 'relev', 'reli', 'religi', 'religion', 'relish', 'reluctantli', 'remain', 'remak', 'remark', 'remarri', 'rememb', 'remind', 'reminisc', 'remot', 'render', 'rendit', 'rene', 'renew', 'renown', 'rent', 'rental', 'repaid', 'repeat', 'repeatedli', 'repetit', 'replac', 'repli', 'report', 'repres', 'represent', 'repress', 'requir', 'rescu', 'research', 'resembl', 'resort', 'resourc', 'respect', 'respons', 'rest', 'restaur', 'restless', 'restrain', 'restrict', 'result', 'resurrect', 'retard', 'retel', 'retriev', 'retromedia', 'retrospect', 'return', 'reunit', 'reveal', 'reveng', 'rever', 'reverend', 'revers', 'review', 'revisionist', 'revolutionari', 'revolv', 'rework', 'rewritten', 'reynold', 'rhythm', 'rhythmic', 'rice', 'rich', 'richard', 'rid', 'riddler', 'ride', 'rider', 'ridicul', 'rifl', 'rift', 'right', 'righteou', 'riot', 'rip', 'ripley', 'ripoff', 'rise', 'risk', 'riski', 'riso', 'ritson', 'ritter', 'ritual', 'rivalri', 'river', 'rivet', 'rl', 'road', 'roam', 'roast', 'rob', 'robber', 'robert', 'roberto', 'robin', 'robinson', 'robot', 'robotech', 'robust', 'rock', 'rocki', 'rod', 'rodanth', 'roger', 'rogu', 'role', 'roll', 'romanc', 'romania', 'romanian', 'romant', 'rome', 'romeo', 'romp', 'rooftop', 'room', 'roommat', 'root', 'rori', 'rose', 'roster', 'rot', 'rotten', 'rottingham', 'rough', 'round', 'rous', 'routin', 'row', 'rowdi', 'rowel', 'rowland', 'rubber', 'rubbish', 'rubi', 'rudd', 'rug', 'rugbi', 'ruin', 'rule', 'rumbl', 'run', 'runner', 'rush', 'russel', 'russian', 'russo', 'ruthless', 'ryan', 'sacha', 'sacrific', 'sad', 'saddest', 'sadist', 'sadli', 'safe', 'saga', 'said', 'sail', 'sake', 'sale', 'salli', 'salvat', 'sam', 'same', 'samuel', 'samurai', 'san', 'sand', 'sane', 'sanskrit', 'sappi', 'sarah', 'sassi', 'sat', 'satan', 'satir', 'satiris', 'satisfact', 'satisfi', 'satr', 'satur', 'saturday', 'savala', 'save', 'savelyeva', 'savior', 'saw', 'say', 'sc', 'scale', 'scam', 'scan', 'scandanavia', 'scandanavian', 'scandinavian', 'scantili', 'scare', 'scarecrow', 'scari', 'scarili', 'scatti', 'scaveng', 'scenario', 'scene', 'sceneri', 'scenic', 'scent', 'scheme', 'scherler', 'schizophren', 'schlatter', 'school', 'schrage', 'schtick', 'schultz', 'schã¼rer', 'sci', 'scienc', 'scientif', 'scientist', 'scope', 'score', 'scott', 'scout', 'scrambl', 'scream', 'screech', 'screen', 'screenplay', 'screenwrit', 'screw', 'script', 'scriptwrit', 'sculli', 'sculptur', 'scuzzi', 'scuzziest', 'se7en', 'seafood', 'sean', 'search', 'seasid', 'season', 'seat', 'seaver', 'second', 'secondari', 'secret', 'secretari', 'section', 'seduc', 'seduct', 'see', 'seek', 'seeker', 'seem', 'seemingli', 'seen', 'seidl', 'seild', 'seldom', 'self', 'selfish', 'selina', 'sell', 'selv', 'senat', 'send', 'sens', 'sensit', 'sensuou', 'sentenc', 'sentiment', 'separ', 'septemb', 'sequel', 'sequenc', 'seri', 'serial', 'seriou', 'serious', 'sermon', 'serv', 'servic', 'set', 'settl', 'seven', 'seventi', 'sever', 'sex', 'sexi', 'sexier', 'sexual', 'seymour', 'sh', 'shadi', 'shadier', 'shadow', 'shake', 'shakespear', 'shakespearean', 'shaki', 'shallow', 'shame', 'shank', 'shannon', 'shape', 'share', 'sharki', 'sharp', 'sharpen', 'shawshank', 'she', 'shear', 'shed', 'sheepman', 'sheer', 'shell', 'shelley', 'shelter', 'sheriff', 'shi', 'shielah', 'shine', 'shini', 'ship', 'shirley', 'shirt', 'shirtless', 'shitti', 'shlater', 'shock', 'shockingli', 'shoe', 'shoot', 'shop', 'shopworn', 'shore', 'short', 'shortcom', 'shot', 'shotgun', 'shove', 'show', 'showcas', 'showi', 'showmanship', 'shown', 'shreck', 'shroud', 'shshsh', 'shtewart', 'shun', 'shut', 'shuttl', 'shyster', 'sibl', 'sichuan', 'sick', 'side', 'sidelin', 'sidney', 'sight', 'sign', 'signal', 'significantli', 'silenc', 'silent', 'silli', 'silva', 'silverwar', 'silvio', 'similar', 'similiar', 'simp', 'simpl', 'simplest', 'simpli', 'sin', 'sinc', 'sincer', 'sing', 'singer', 'singl', 'sinist', 'sink', 'sister', 'sisterli', 'sit', 'sitcom', 'site', 'situat', 'size', 'skank', 'skate', 'sketch', 'ski', 'skill', 'skimpier', 'skin', 'skinni', 'skip', 'skull', 'sky', 'skynet', 'slapper', 'slapstick', 'slash', 'slasher', 'slave', 'sleazi', 'sledgehamm', 'sleep', 'sleeper', 'sleepi', 'sleepili', 'sleepov', 'slept', 'sleuth', 'slice', 'slick', 'slide', 'slightli', 'sling', 'slip', 'sloan', 'slob', 'slobber', 'sloppi', 'slow', 'slowli', 'slum', 'slump', 'slut', 'smack', 'small', 'smart', 'smarti', 'smartli', 'smell', 'smoke', 'snake', 'snappi', 'sneak', 'sniper', 'snit', 'snot', 'snow', 'snowbal', 'snowman', 'snowmen', 'soap', 'sob', 'sober', 'social', 'societi', 'sock', 'soderbergh', 'soft', 'soften', 'soi', 'soil', 'sold', 'soldier', 'solid', 'solo', 'solut', 'solv', 'somebodi', 'someday', 'somehow', 'someon', 'someth', 'sometim', 'somewhat', 'somewher', 'son', 'song', 'sonic', 'sooki', 'soon', 'sooner', 'sophist', 'sophomor', 'sorri', 'sort', 'soul', 'sound', 'soundtrack', 'sourc', 'southern', 'southwest', 'soviet', 'space', 'spacek', 'spacey', 'spade', 'spandex', 'spanish', 'spare', 'spars', 'spaz', 'speak', 'special', 'specif', 'speciou', 'spectacl', 'spectacular', 'spectat', 'spectr', 'speech', 'speed', 'spell', 'spellbound', 'spend', 'spent', 'spi', 'spice', 'spielmann', 'spin', 'spirit', 'spiritu', 'spite', 'splash', 'splatter', 'splendid', 'split', 'spoil', 'spoiler', 'spoke', 'spoken', 'spontan', 'spoof', 'spooki', 'spoon', 'sport', 'spot', 'spotlight', 'spray', 'spread', 'spree', 'sprightli', 'spring', 'sprinkl', 'sprite', 'squar', 'squash', 'squeak', 'squeez', 'squirt', 'sr', 'stab', 'staff', 'stage', 'stair', 'stale', 'stallion', 'stallon', 'stamp', 'stan', 'stand', 'standard', 'standpoint', 'stanley', 'stanwyck', 'star', 'stardom', 'stare', 'start', 'starter', 'startl', 'starv', 'state', 'statement', 'static', 'station', 'statur', 'stay', 'steadi', 'steal', 'steam', 'steenburgen', 'steiger', 'stellar', 'stembridg', 'step', 'stephen', 'stereotyp', 'steril', 'sterl', 'stern', 'steve', 'steven', 'stew', 'stick', 'stiff', 'still', 'stiller', 'stilt', 'stimul', 'stinker', 'stitch', 'stock', 'stockbrok', 'stoic', 'stoke', 'stole', 'stomach', 'stone', 'stop', 'stopper', 'stopwatch', 'store', 'stori', 'storm', 'storylin', 'storytel', 'stott', 'straight', 'strand', 'strang', 'stranger', 'strap', 'stratten', 'street', 'streethawk', 'streisand', 'strength', 'stress', 'stretch', 'strictli', 'strike', 'strip', 'stroke', 'stroll', 'strong', 'strongest', 'strongli', 'struck', 'structur', 'struggl', 'strut', 'stuart', 'stubborn', 'stuck', 'stud', 'student', 'studi', 'studio', 'stuff', 'stuie', 'stumbl', 'stun', 'stunt', 'stupid', 'stupidest', 'stupiditiy', 'stupidli', 'stupor', 'style', 'stylish', 'stylist', 'styliz', 'sub', 'subconsci', 'subgroup', 'subject', 'sublim', 'subplot', 'substanc', 'subtl', 'subtleti', 'subtli', 'suburb', 'subvert', 'succe', 'succeed', 'success', 'succumb', 'suck', 'sucker', 'sudden', 'suddenli', 'sudern', 'sue', 'suffer', 'suggest', 'suicid', 'suit', 'sum', 'summari', 'summer', 'sun', 'sunday', 'sunken', 'sunni', 'sunshin', 'super', 'superb', 'superfici', 'superhero', 'superior', 'supernatur', 'superstar', 'suppli', 'support', 'suppos', 'supposedli', 'sure', 'surfac', 'surgeri', 'surgic', 'surpris', 'surprisingli', 'surreal', 'surrend', 'surround', 'surviv', 'survivor', 'susan', 'suspect', 'suspens', 'suspiria', 'sustain', 'svet', 'swan', 'swarm', 'swear', 'sweat', 'sweep', 'sweet', 'swept', 'swim', 'swing', 'swirl', 'switch', 'switzerland', 'sword', 'sydney', 'sydow', 'syfi', 'symbol', 'symmetri', 'sympath', 'sympathet', 'sympathi', 'synch', 'synopsi', 'synthes', 'system', 'tabl', 'tactic', 'tad', 'tadanobu', 'taint', 'takashi', 'take', 'taken', 'tale', 'talent', 'talentless', 'talk', 'tall', 'tame', 'tamer', 'tangl', 'tango', 'tantal', 'tap', 'tape', 'tar', 'tarantino', 'target', 'tarintino', 'task', 'tast', 'tatou', 'tatti', 'taught', 'taxat', 'taxi', 'taylor', 'tcm', 'tea', 'teabag', 'teach', 'teacher', 'team', 'tear', 'technic', 'techniqu', 'technolog', 'ted', 'teem', 'teen', 'teenag', 'televis', 'tell', 'telli', 'templ', 'tempt', 'tempura', 'ten', 'tend', 'tender', 'tenni', 'tens', 'tension', 'term', 'termin', 'terminolog', 'terrenc', 'terri', 'terribl', 'terrif', 'terrifi', 'territori', 'terror', 'terrorist', 'test', 'testament', 'texa', 'texan', 'text', 'tha', 'thalberg', 'thall', 'thank', 'that', 'theater', 'theatr', 'theatric', 'thee', 'theme', 'theori', 'thereaft', 'therefor', 'theresa', 'thespian', 'thick', 'thief', 'thin', 'thing', 'think', 'thinnest', 'third', 'thirti', 'tho', 'thompson', 'thong', 'thoroughli', 'though', 'thought', 'thousand', 'thread', 'threat', 'threaten', 'three', 'threw', 'thrill', 'thriller', 'throat', 'throll', 'throne', 'throughout', 'throw', 'thrown', 'thru', 'thug', 'thumb', 'thumper', 'thunder', 'tibetan', 'ticket', 'tight', 'tighter', 'tightli', 'tightrop', 'tim', 'time', 'timeless', 'timer', 'timid', 'timothi', 'tini', 'tip', 'tire', 'tiresom', 'titan', 'titl', 'tivo', 'today', 'toe', 'togeth', 'toil', 'toilet', 'tokyo', 'told', 'toll', 'tolstoy', 'tom', 'tomato', 'tommi', 'tomorrow', 'ton', 'tone', 'tong', 'toni', 'took', 'top', 'torment', 'tortur', 'tot', 'total', 'tote', 'touch', 'tough', 'tour', 'toward', 'town', 'towner', 'toxi', 'toy', 'tracey', 'traci', 'track', 'trade', 'trader', 'tradit', 'tragedi', 'trail', 'trailer', 'train', 'traitor', 'tranc', 'transfer', 'transform', 'translat', 'transplant', 'transvestit', 'trap', 'trash', 'trashi', 'travel', 'travesti', 'travolta', 'treat', 'treatment', 'tree', 'tremend', 'trend', 'trendi', 'tri', 'trial', 'triangl', 'tribal', 'tribe', 'tribut', 'trick', 'trigger', 'trilog', 'trim', 'trip', 'trite', 'triumph', 'troll', 'tron', 'tropic', 'troubl', 'true', 'truli', 'truman', 'trust', 'trusti', 'truth', 'tsunami', 'tube', 'tucci', 'tune', 'tunnel', 'turd', 'turkey', 'turmoil', 'turn', 'tv', 'tvamomodrã½', 'tvm', 'twelv', 'twenti', 'twice', 'twin', 'twist', 'two', 'tyler', 'type', 'typic', 'tyron', 'ugliest', 'uh', 'uk', 'ullman', 'ultim', 'umpteenth', 'unabl', 'unapreci', 'unauthor', 'unavail', 'unawar', 'unbalanc', 'unbear', 'unbeknownst', 'unbeliev', 'unbelivebl', 'uncal', 'uncanni', 'uncertain', 'unclear', 'uncompromis', 'unconsci', 'unconvinc', 'uncouth', 'uncredit', 'undecipher', 'underestim', 'underground', 'underli', 'underneath', 'underscor', 'underst', 'understand', 'understat', 'understudi', 'undertak', 'undevelop', 'undisciplin', 'undoubtedli', 'uneasi', 'unemploy', 'unev', 'unexpect', 'unexpectedli', 'unexplain', 'unfamiliar', 'unfinish', 'unflatt', 'unforgett', 'unfortun', 'unfunni', 'ungrat', 'uninspir', 'unintent', 'uninvolv', 'union', 'uniqu', 'unison', 'unit', 'univers', 'unkempt', 'unknown', 'unleash', 'unless', 'unlik', 'unlock', 'unlov', 'unlucki', 'unmemor', 'unmistak', 'unnatur', 'unnecessari', 'unnecessarili', 'unorigin', 'unorthodox', 'unpopular', 'unpredict', 'unprepar', 'unquestion', 'unravel', 'unreal', 'unrealist', 'unrel', 'unreli', 'unrepent', 'unscath', 'unscript', 'unsettl', 'unspecifi', 'unstabl', 'unsurprisingli', 'unusu', 'unwilling', 'updat', 'upheav', 'upon', 'upper', 'upset', 'upsid', 'upstair', 'urban', 'urbano', 'urg', 'ursula', 'uruguayan', 'us', 'use', 'useless', 'user', 'ussr', 'usual', 'uswa', 'utter', 'utterli', 'vacat', 'vacil', 'vacuum', 'vagu', 'vain', 'valley', 'vals', 'valseus', 'valu', 'valuabl', 'vampir', 'van', 'vanilla', 'vanish', 'vapoor', 'varden', 'vari', 'varieti', 'variou', 'vast', 'vastli', 'vat', 'vaudevil', 'vaughn', 'vcr', 'veer', 'veget', 'vehicl', 'velvet', 'vengeanc', 'ventur', 'verdict', 'verisimilitud', 'vernon', 'veronica', 'versa', 'versatil', 'version', 'vet', 'veteran', 'vh', 'vh1', 'via', 'viabl', 'vibe', 'vibrat', 'vice', 'victim', 'victori', 'victoria', 'victorian', 'video', 'videoplay', 'vidor', 'vienna', 'viennes', 'vietnam', 'view', 'viewer', 'vile', 'villag', 'villain', 'vinc', 'vincent', 'violenc', 'violent', 'virgin', 'virtu', 'virtual', 'viscer', 'visibl', 'visit', 'visual', 'vivid', 'vocal', 'voic', 'voiceov', 'void', 'vol', 'voluntarili', 'vomit', 'von', 'voodoo', 'vote', 'voyag', 'wacki', 'wacko', 'wai', 'waist', 'wait', 'wake', 'wald', 'walk', 'walken', 'walker', 'wall', 'wallac', 'walter', 'wane', 'wang', 'wanna', 'wannab', 'want', 'war', 'warm', 'warn', 'warner', 'warrior', 'wash', 'washington', 'wast', 'watch', 'watchabl', 'water', 'waterloo', 'waterproof', 'watson', 'watt', 'wave', 'waver', 'way', 'wayn', 'wazoo', 'wcw', 'weak', 'weaken', 'weakest', 'weakli', 'wealth', 'wealthi', 'weapon', 'wear', 'weather', 'weaver', 'weber', 'websit', 'wed', 'wednesday', 'week', 'weekend', 'weep', 'wei', 'weir', 'weird', 'weirdo', 'weisz', 'well', 'wendi', 'went', 'werewolf', 'werner', 'west', 'western', 'wet', 'whale', 'whatev', 'whatsoev', 'whenev', 'whether', 'whilst', 'whimsic', 'whine', 'white', 'whodunit', 'whoever', 'whole', 'wholesom', 'wholli', 'whose', 'whuppin', 'wick', 'wide', 'wider', 'widescreen', 'wife', 'wig', 'wikipedia', 'wild', 'wilder', 'wildli', 'wildmon', 'wilkison', 'will', 'willa', 'willi', 'william', 'willingli', 'wilson', 'win', 'wind', 'window', 'windshield', 'wing', 'winn', 'winner', 'winning', 'winslet', 'winter', 'wipe', 'wise', 'wish', 'wit', 'witherspoon', 'within', 'without', 'witti', 'wive', 'woeful', 'woefulli', 'wolf', 'woman', 'women', 'wonder', 'wont', 'wood', 'wooden', 'wook', 'word', 'wordi', 'work', 'worker', 'workout', 'world', 'worn', 'worri', 'wors', 'worst', 'worth', 'worthi', 'worthwhil', 'would', 'wound', 'wow', 'wrack', 'wreak', 'wreck', 'wrench', 'wrestl', 'wrestler', 'wretch', 'wring', 'write', 'writer', 'writh', 'written', 'wrong', 'wrote', 'wuss', 'wwe', 'wwii', 'wyler', 'xavier', 'yahoo', 'yank', 'yarn', 'yasbeck', 'ye', 'yeah', 'year', 'yearn', 'yell', 'yellow', 'yesterday', 'yet', 'yeti', 'yike', 'yolanda', 'york', 'young', 'youngblood', 'younger', 'youngest', 'youth', 'yung', 'yup', 'yuppi', 'yvonn', 'zani', 'zap', 'zatoichi', 'zeal', 'zentropa', 'ziegfeld', 'ziller', 'zima', 'zimmer', 'zombi', 'zoo', 'zor']\n"
          ]
        },
        {
          "name": "stderr",
          "output_type": "stream",
          "text": [
            "C:\\Users\\Shilajit-CR7\\AppData\\Local\\Programs\\Python\\Python39\\lib\\site-packages\\sklearn\\utils\\deprecation.py:87: FutureWarning: Function get_feature_names is deprecated; get_feature_names is deprecated in 1.0 and will be removed in 1.2. Please use get_feature_names_out instead.\n",
            "  warnings.warn(msg, category=FutureWarning)\n"
          ]
        }
      ],
      "source": [
        "print(cv.get_feature_names())"
      ]
    },
    {
      "cell_type": "code",
      "execution_count": null,
      "id": "60fba0ef",
      "metadata": {
        "id": "60fba0ef",
        "outputId": "69c065f5-734d-4792-8b2b-8ab98ebda522"
      },
      "outputs": [
        {
          "ename": "MemoryError",
          "evalue": "Unable to allocate 4.90 GiB for an array with shape (10000, 65742) and data type int64",
          "output_type": "error",
          "traceback": [
            "\u001b[1;31m---------------------------------------------------------------------------\u001b[0m",
            "\u001b[1;31mMemoryError\u001b[0m                               Traceback (most recent call last)",
            "Input \u001b[1;32mIn [163]\u001b[0m, in \u001b[0;36m<cell line: 1>\u001b[1;34m()\u001b[0m\n\u001b[1;32m----> 1\u001b[0m test_vec \u001b[38;5;241m=\u001b[39m \u001b[43mcv\u001b[49m\u001b[38;5;241;43m.\u001b[39;49m\u001b[43mtransform\u001b[49m\u001b[43m(\u001b[49m\u001b[43mtest_clean\u001b[49m\u001b[43m)\u001b[49m\u001b[38;5;241;43m.\u001b[39;49m\u001b[43mtoarray\u001b[49m\u001b[43m(\u001b[49m\u001b[43m)\u001b[49m\n",
            "File \u001b[1;32m~\\AppData\\Local\\Programs\\Python\\Python39\\lib\\site-packages\\scipy\\sparse\\_compressed.py:1051\u001b[0m, in \u001b[0;36m_cs_matrix.toarray\u001b[1;34m(self, order, out)\u001b[0m\n\u001b[0;32m   1049\u001b[0m \u001b[38;5;28;01mif\u001b[39;00m out \u001b[38;5;129;01mis\u001b[39;00m \u001b[38;5;28;01mNone\u001b[39;00m \u001b[38;5;129;01mand\u001b[39;00m order \u001b[38;5;129;01mis\u001b[39;00m \u001b[38;5;28;01mNone\u001b[39;00m:\n\u001b[0;32m   1050\u001b[0m     order \u001b[38;5;241m=\u001b[39m \u001b[38;5;28mself\u001b[39m\u001b[38;5;241m.\u001b[39m_swap(\u001b[38;5;124m'\u001b[39m\u001b[38;5;124mcf\u001b[39m\u001b[38;5;124m'\u001b[39m)[\u001b[38;5;241m0\u001b[39m]\n\u001b[1;32m-> 1051\u001b[0m out \u001b[38;5;241m=\u001b[39m \u001b[38;5;28;43mself\u001b[39;49m\u001b[38;5;241;43m.\u001b[39;49m\u001b[43m_process_toarray_args\u001b[49m\u001b[43m(\u001b[49m\u001b[43morder\u001b[49m\u001b[43m,\u001b[49m\u001b[43m \u001b[49m\u001b[43mout\u001b[49m\u001b[43m)\u001b[49m\n\u001b[0;32m   1052\u001b[0m \u001b[38;5;28;01mif\u001b[39;00m \u001b[38;5;129;01mnot\u001b[39;00m (out\u001b[38;5;241m.\u001b[39mflags\u001b[38;5;241m.\u001b[39mc_contiguous \u001b[38;5;129;01mor\u001b[39;00m out\u001b[38;5;241m.\u001b[39mflags\u001b[38;5;241m.\u001b[39mf_contiguous):\n\u001b[0;32m   1053\u001b[0m     \u001b[38;5;28;01mraise\u001b[39;00m \u001b[38;5;167;01mValueError\u001b[39;00m(\u001b[38;5;124m'\u001b[39m\u001b[38;5;124mOutput array must be C or F contiguous\u001b[39m\u001b[38;5;124m'\u001b[39m)\n",
            "File \u001b[1;32m~\\AppData\\Local\\Programs\\Python\\Python39\\lib\\site-packages\\scipy\\sparse\\_base.py:1291\u001b[0m, in \u001b[0;36mspmatrix._process_toarray_args\u001b[1;34m(self, order, out)\u001b[0m\n\u001b[0;32m   1289\u001b[0m     \u001b[38;5;28;01mreturn\u001b[39;00m out\n\u001b[0;32m   1290\u001b[0m \u001b[38;5;28;01melse\u001b[39;00m:\n\u001b[1;32m-> 1291\u001b[0m     \u001b[38;5;28;01mreturn\u001b[39;00m \u001b[43mnp\u001b[49m\u001b[38;5;241;43m.\u001b[39;49m\u001b[43mzeros\u001b[49m\u001b[43m(\u001b[49m\u001b[38;5;28;43mself\u001b[39;49m\u001b[38;5;241;43m.\u001b[39;49m\u001b[43mshape\u001b[49m\u001b[43m,\u001b[49m\u001b[43m \u001b[49m\u001b[43mdtype\u001b[49m\u001b[38;5;241;43m=\u001b[39;49m\u001b[38;5;28;43mself\u001b[39;49m\u001b[38;5;241;43m.\u001b[39;49m\u001b[43mdtype\u001b[49m\u001b[43m,\u001b[49m\u001b[43m \u001b[49m\u001b[43morder\u001b[49m\u001b[38;5;241;43m=\u001b[39;49m\u001b[43morder\u001b[49m\u001b[43m)\u001b[49m\n",
            "\u001b[1;31mMemoryError\u001b[0m: Unable to allocate 4.90 GiB for an array with shape (10000, 65742) and data type int64"
          ]
        }
      ],
      "source": [
        "test_vec = cv.transform(test_clean).toarray()\n",
        "#print(test_vec)"
      ]
    },
    {
      "cell_type": "code",
      "execution_count": null,
      "id": "20d298dc",
      "metadata": {
        "id": "20d298dc"
      },
      "outputs": [],
      "source": [
        "test_vec.shape"
      ]
    },
    {
      "cell_type": "code",
      "execution_count": null,
      "id": "5579cf56",
      "metadata": {
        "id": "5579cf56"
      },
      "outputs": [],
      "source": [
        "from sklearn.naive_bayes import MultinomialNB,BernoulliNB,GaussianNB"
      ]
    },
    {
      "cell_type": "code",
      "execution_count": null,
      "id": "379605dc",
      "metadata": {
        "id": "379605dc"
      },
      "outputs": [],
      "source": [
        "mnb = MultinomialNB()"
      ]
    },
    {
      "cell_type": "code",
      "execution_count": null,
      "id": "b0ad185a",
      "metadata": {
        "id": "b0ad185a",
        "outputId": "5c30841e-9158-4f58-d264-c01e6714c214"
      },
      "outputs": [
        {
          "name": "stderr",
          "output_type": "stream",
          "text": [
            "C:\\Users\\Shilajit-CR7\\AppData\\Local\\Programs\\Python\\Python39\\lib\\site-packages\\sklearn\\utils\\validation.py:1111: DataConversionWarning: A column-vector y was passed when a 1d array was expected. Please change the shape of y to (n_samples, ), for example using ravel().\n",
            "  y = column_or_1d(y, warn=True)\n"
          ]
        }
      ],
      "source": [
        "model = mnb.fit(x_vec,y)"
      ]
    },
    {
      "cell_type": "code",
      "execution_count": null,
      "id": "723f7a37",
      "metadata": {
        "id": "723f7a37"
      },
      "outputs": [],
      "source": [
        "ypred = model.predict(cv.transform(fg).toarray())"
      ]
    },
    {
      "cell_type": "code",
      "execution_count": null,
      "id": "2ae438e0",
      "metadata": {
        "id": "2ae438e0",
        "outputId": "724e258d-05a7-4835-889e-3ab14e6034f7"
      },
      "outputs": [
        {
          "data": {
            "text/plain": [
              "(300,)"
            ]
          },
          "execution_count": 219,
          "metadata": {},
          "output_type": "execute_result"
        }
      ],
      "source": [
        "ypred.shape"
      ]
    },
    {
      "cell_type": "code",
      "execution_count": null,
      "id": "59e01587",
      "metadata": {
        "id": "59e01587",
        "outputId": "58b3c9ae-6a82-46ae-aecf-bb7bf91125a5"
      },
      "outputs": [
        {
          "data": {
            "text/plain": [
              "array([0, 0, 0, 0, 1, 0, 1, 0, 1, 1, 1, 1, 1, 0, 0, 1, 0, 1, 1, 0, 0, 1,\n",
              "       0, 0, 0, 0, 0, 1, 1, 1, 1, 0, 0, 0, 1, 1, 1, 0, 0, 0, 0, 1, 1, 0,\n",
              "       0, 0, 1, 1, 1, 1, 0, 0, 1, 0, 0, 0, 1, 1, 0, 1, 0, 1, 0, 1, 0, 0,\n",
              "       0, 0, 1, 1, 1, 1, 0, 1, 1, 1, 1, 1, 1, 0, 1, 0, 1, 1, 1, 1, 0, 1,\n",
              "       0, 1, 0, 0, 0, 0, 1, 0, 0, 0, 0, 1, 1, 0, 0, 1, 0, 1, 0, 0, 0, 0,\n",
              "       1, 0, 0, 1, 0, 0, 0, 0, 0, 0, 1, 1, 1, 1, 1, 0, 0, 1, 0, 0, 0, 1,\n",
              "       0, 0, 0, 0, 1, 1, 1, 1, 1, 1, 0, 0, 1, 1, 0, 1, 0, 1, 0, 0, 1, 1,\n",
              "       1, 0, 0, 0, 1, 0, 0, 0, 0, 0, 0, 1, 0, 1, 0, 1, 0, 0, 1, 1, 0, 0,\n",
              "       1, 0, 0, 0, 1, 0, 0, 1, 1, 0, 1, 0, 1, 0, 1, 1, 1, 0, 0, 0, 1, 1,\n",
              "       1, 0, 0, 0, 0, 0, 0, 1, 0, 0, 0, 1, 0, 1, 0, 1, 1, 1, 1, 1, 0, 1,\n",
              "       1, 0, 0, 1, 1, 0, 0, 1, 0, 1, 0, 0, 0, 1, 1, 0, 0, 1, 1, 0, 1, 0,\n",
              "       0, 1, 0, 0, 0, 0, 1, 1, 0, 0, 0, 0, 1, 0, 0, 1, 1, 1, 0, 1, 1, 0,\n",
              "       0, 1, 0, 0, 0, 1, 1, 1, 0, 0, 0, 0, 0, 0, 1, 1, 0, 1, 0, 1, 0, 1,\n",
              "       0, 0, 1, 0, 1, 0, 0, 1, 0, 1, 0, 1, 1, 0])"
            ]
          },
          "execution_count": 220,
          "metadata": {},
          "output_type": "execute_result"
        }
      ],
      "source": [
        "ypred"
      ]
    },
    {
      "cell_type": "code",
      "execution_count": null,
      "id": "a031222c",
      "metadata": {
        "id": "a031222c"
      },
      "outputs": [],
      "source": [
        "fg = list(test_clean)\n",
        "fg = fg[:300]\n"
      ]
    },
    {
      "cell_type": "code",
      "execution_count": null,
      "id": "6d44f139",
      "metadata": {
        "id": "6d44f139"
      },
      "outputs": [],
      "source": [
        ""
      ]
    },
    {
      "cell_type": "code",
      "execution_count": null,
      "id": "d97f3cfe",
      "metadata": {
        "id": "d97f3cfe"
      },
      "outputs": [],
      "source": [
        ""
      ]
    },
    {
      "cell_type": "code",
      "execution_count": null,
      "id": "2c1ee53c",
      "metadata": {
        "id": "2c1ee53c"
      },
      "outputs": [],
      "source": [
        ""
      ]
    },
    {
      "cell_type": "code",
      "execution_count": null,
      "id": "a1f90747",
      "metadata": {
        "id": "a1f90747",
        "outputId": "9356da84-f4f0-4f6d-dd8f-2bb2b23e8080"
      },
      "outputs": [
        {
          "data": {
            "text/html": [
              "<div>\n",
              "<style scoped>\n",
              "    .dataframe tbody tr th:only-of-type {\n",
              "        vertical-align: middle;\n",
              "    }\n",
              "\n",
              "    .dataframe tbody tr th {\n",
              "        vertical-align: top;\n",
              "    }\n",
              "\n",
              "    .dataframe thead th {\n",
              "        text-align: right;\n",
              "    }\n",
              "</style>\n",
              "<table border=\"1\" class=\"dataframe\">\n",
              "  <thead>\n",
              "    <tr style=\"text-align: right;\">\n",
              "      <th></th>\n",
              "      <th>0</th>\n",
              "    </tr>\n",
              "  </thead>\n",
              "  <tbody>\n",
              "    <tr>\n",
              "      <th>0</th>\n",
              "      <td>0</td>\n",
              "    </tr>\n",
              "    <tr>\n",
              "      <th>1</th>\n",
              "      <td>0</td>\n",
              "    </tr>\n",
              "    <tr>\n",
              "      <th>2</th>\n",
              "      <td>0</td>\n",
              "    </tr>\n",
              "    <tr>\n",
              "      <th>3</th>\n",
              "      <td>0</td>\n",
              "    </tr>\n",
              "    <tr>\n",
              "      <th>4</th>\n",
              "      <td>1</td>\n",
              "    </tr>\n",
              "    <tr>\n",
              "      <th>...</th>\n",
              "      <td>...</td>\n",
              "    </tr>\n",
              "    <tr>\n",
              "      <th>295</th>\n",
              "      <td>1</td>\n",
              "    </tr>\n",
              "    <tr>\n",
              "      <th>296</th>\n",
              "      <td>0</td>\n",
              "    </tr>\n",
              "    <tr>\n",
              "      <th>297</th>\n",
              "      <td>1</td>\n",
              "    </tr>\n",
              "    <tr>\n",
              "      <th>298</th>\n",
              "      <td>1</td>\n",
              "    </tr>\n",
              "    <tr>\n",
              "      <th>299</th>\n",
              "      <td>0</td>\n",
              "    </tr>\n",
              "  </tbody>\n",
              "</table>\n",
              "<p>300 rows × 1 columns</p>\n",
              "</div>"
            ],
            "text/plain": [
              "     0\n",
              "0    0\n",
              "1    0\n",
              "2    0\n",
              "3    0\n",
              "4    1\n",
              "..  ..\n",
              "295  1\n",
              "296  0\n",
              "297  1\n",
              "298  1\n",
              "299  0\n",
              "\n",
              "[300 rows x 1 columns]"
            ]
          },
          "execution_count": 225,
          "metadata": {},
          "output_type": "execute_result"
        }
      ],
      "source": [
        "ypred"
      ]
    },
    {
      "cell_type": "code",
      "execution_count": null,
      "id": "99418fb0",
      "metadata": {
        "id": "99418fb0"
      },
      "outputs": [],
      "source": [
        ""
      ]
    },
    {
      "cell_type": "code",
      "execution_count": null,
      "id": "dce8fa76",
      "metadata": {
        "id": "dce8fa76"
      },
      "outputs": [],
      "source": [
        ""
      ]
    },
    {
      "cell_type": "code",
      "execution_count": null,
      "id": "b24846ce",
      "metadata": {
        "id": "b24846ce"
      },
      "outputs": [],
      "source": [
        ""
      ]
    },
    {
      "cell_type": "code",
      "execution_count": null,
      "id": "99bde717",
      "metadata": {
        "id": "99bde717"
      },
      "outputs": [],
      "source": [
        ""
      ]
    },
    {
      "cell_type": "code",
      "execution_count": null,
      "id": "0c47f25a",
      "metadata": {
        "id": "0c47f25a"
      },
      "outputs": [],
      "source": [
        ""
      ]
    },
    {
      "cell_type": "code",
      "execution_count": null,
      "id": "ca4e6e0e",
      "metadata": {
        "id": "ca4e6e0e"
      },
      "outputs": [],
      "source": [
        ""
      ]
    },
    {
      "cell_type": "code",
      "execution_count": null,
      "id": "c43dd066",
      "metadata": {
        "id": "c43dd066"
      },
      "outputs": [],
      "source": [
        ""
      ]
    },
    {
      "cell_type": "code",
      "execution_count": null,
      "id": "14a925df",
      "metadata": {
        "id": "14a925df"
      },
      "outputs": [],
      "source": [
        ""
      ]
    },
    {
      "cell_type": "code",
      "execution_count": null,
      "id": "815a3b60",
      "metadata": {
        "id": "815a3b60"
      },
      "outputs": [],
      "source": [
        ""
      ]
    },
    {
      "cell_type": "code",
      "execution_count": null,
      "id": "785ee5cd",
      "metadata": {
        "id": "785ee5cd"
      },
      "outputs": [],
      "source": [
        ""
      ]
    },
    {
      "cell_type": "code",
      "execution_count": null,
      "id": "e0914121",
      "metadata": {
        "id": "e0914121"
      },
      "outputs": [],
      "source": [
        ""
      ]
    },
    {
      "cell_type": "code",
      "execution_count": null,
      "id": "371cc669",
      "metadata": {
        "id": "371cc669"
      },
      "outputs": [],
      "source": [
        ""
      ]
    },
    {
      "cell_type": "code",
      "execution_count": null,
      "id": "6f45af18",
      "metadata": {
        "id": "6f45af18"
      },
      "outputs": [],
      "source": [
        ""
      ]
    },
    {
      "cell_type": "code",
      "execution_count": null,
      "id": "75560bc1",
      "metadata": {
        "id": "75560bc1"
      },
      "outputs": [],
      "source": [
        ""
      ]
    },
    {
      "cell_type": "code",
      "execution_count": null,
      "id": "d6a24a9c",
      "metadata": {
        "id": "d6a24a9c"
      },
      "outputs": [],
      "source": [
        ""
      ]
    }
  ],
  "metadata": {
    "kernelspec": {
      "display_name": "Python 3 (ipykernel)",
      "language": "python",
      "name": "python3"
    },
    "language_info": {
      "codemirror_mode": {
        "name": "ipython",
        "version": 3
      },
      "file_extension": ".py",
      "mimetype": "text/x-python",
      "name": "python",
      "nbconvert_exporter": "python",
      "pygments_lexer": "ipython3",
      "version": "3.9.10"
    },
    "colab": {
      "name": "Movie Review Analysis.ipynb",
      "provenance": [],
      "include_colab_link": true
    }
  },
  "nbformat": 4,
  "nbformat_minor": 5
}